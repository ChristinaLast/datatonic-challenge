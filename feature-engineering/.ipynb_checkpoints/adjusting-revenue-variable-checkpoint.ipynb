{
 "cells": [
  {
   "cell_type": "markdown",
   "metadata": {},
   "source": [
    "# Feature engineering - Adjusting revenue \n",
    "To predict whether or not sequels or films inspired by novels are more successful. \n",
    "\n",
    "## Tasks this notebook achieves\n",
    "- Problem: budget has a large number of missing values\n",
    "    - [x] given mean value to rows without budget, this is better than removing as there are a large amount of empty rows\n",
    "-  Problem: revenue data is not good enough\n",
    "    - [x] I removed zero revenue rows, resulting in 900 rows lost. Not great, but I can’t predict revenue without revenue.\n",
    "    - [x] I remove year to only take into account the seasonality of a movie release"
   ]
  },
  {
   "cell_type": "code",
   "execution_count": 2,
   "metadata": {},
   "outputs": [],
   "source": [
    "import os"
   ]
  },
  {
   "cell_type": "code",
   "execution_count": 3,
   "metadata": {},
   "outputs": [],
   "source": [
    "os.chdir('..')\n",
    "cwd = os.getcwd()"
   ]
  },
  {
   "cell_type": "code",
   "execution_count": 4,
   "metadata": {},
   "outputs": [],
   "source": [
    "import pandas as pd\n",
    "import json \n",
    "import numpy as np\n",
    "from datetime import datetime\n",
    "data_dir = '/data/' "
   ]
  },
  {
   "cell_type": "code",
   "execution_count": 5,
   "metadata": {},
   "outputs": [
    {
     "data": {
      "text/html": [
       "<div>\n",
       "<style scoped>\n",
       "    .dataframe tbody tr th:only-of-type {\n",
       "        vertical-align: middle;\n",
       "    }\n",
       "\n",
       "    .dataframe tbody tr th {\n",
       "        vertical-align: top;\n",
       "    }\n",
       "\n",
       "    .dataframe thead th {\n",
       "        text-align: right;\n",
       "    }\n",
       "</style>\n",
       "<table border=\"1\" class=\"dataframe\">\n",
       "  <thead>\n",
       "    <tr style=\"text-align: right;\">\n",
       "      <th></th>\n",
       "      <th>budget</th>\n",
       "      <th>popularity</th>\n",
       "      <th>revenue</th>\n",
       "      <th>runtime</th>\n",
       "      <th>vote_average</th>\n",
       "      <th>vote_count</th>\n",
       "      <th>genres</th>\n",
       "      <th>keywords</th>\n",
       "      <th>original_language</th>\n",
       "      <th>original_title</th>\n",
       "      <th>overview</th>\n",
       "      <th>production_companies</th>\n",
       "      <th>production_countries</th>\n",
       "      <th>release_date</th>\n",
       "      <th>spoken_languages</th>\n",
       "      <th>movie_id</th>\n",
       "      <th>cast</th>\n",
       "      <th>crew</th>\n",
       "    </tr>\n",
       "    <tr>\n",
       "      <th>id</th>\n",
       "      <th></th>\n",
       "      <th></th>\n",
       "      <th></th>\n",
       "      <th></th>\n",
       "      <th></th>\n",
       "      <th></th>\n",
       "      <th></th>\n",
       "      <th></th>\n",
       "      <th></th>\n",
       "      <th></th>\n",
       "      <th></th>\n",
       "      <th></th>\n",
       "      <th></th>\n",
       "      <th></th>\n",
       "      <th></th>\n",
       "      <th></th>\n",
       "      <th></th>\n",
       "      <th></th>\n",
       "    </tr>\n",
       "  </thead>\n",
       "  <tbody>\n",
       "    <tr>\n",
       "      <th>64682</th>\n",
       "      <td>105000000</td>\n",
       "      <td>61.196071</td>\n",
       "      <td>351040419</td>\n",
       "      <td>143.0</td>\n",
       "      <td>7.3</td>\n",
       "      <td>3769</td>\n",
       "      <td>{'id': [18, 10749], 'name': ['Drama', 'Romance']}</td>\n",
       "      <td>{'id': [818, 1326, 1523, 3929, 209714], 'name'...</td>\n",
       "      <td>en</td>\n",
       "      <td>The Great Gatsby</td>\n",
       "      <td>An adaptation of F. Scott Fitzgerald's Long Is...</td>\n",
       "      <td>{'name': ['Village Roadshow Pictures', 'Bazmar...</td>\n",
       "      <td>{'iso_3166_1': ['US', 'AU'], 'name': ['United ...</td>\n",
       "      <td>2013-05-10</td>\n",
       "      <td>{'iso_639_1': ['en'], 'name': ['English']}</td>\n",
       "      <td>64682</td>\n",
       "      <td>{'cast_id': [2, 5, 3, 8, 6, 4, 7, 22, 13, 23, ...</td>\n",
       "      <td>{'credit_id': ['52fe46e3c3a368484e0a982d', '52...</td>\n",
       "    </tr>\n",
       "    <tr>\n",
       "      <th>9543</th>\n",
       "      <td>150000000</td>\n",
       "      <td>62.169881</td>\n",
       "      <td>335154643</td>\n",
       "      <td>116.0</td>\n",
       "      <td>6.2</td>\n",
       "      <td>2317</td>\n",
       "      <td>{'id': [12, 14, 28, 10749], 'name': ['Adventur...</td>\n",
       "      <td>{'id': [1241, 1965, 12653, 12654, 12655, 41645...</td>\n",
       "      <td>en</td>\n",
       "      <td>Prince of Persia: The Sands of Time</td>\n",
       "      <td>A rogue prince reluctantly joins forces with a...</td>\n",
       "      <td>{'name': ['Walt Disney Pictures', 'Jerry Bruck...</td>\n",
       "      <td>{'iso_3166_1': ['US'], 'name': ['United States...</td>\n",
       "      <td>2010-05-19</td>\n",
       "      <td>{'iso_639_1': ['en'], 'name': ['English']}</td>\n",
       "      <td>9543</td>\n",
       "      <td>{'cast_id': [5, 2, 7, 4, 6, 8, 9, 10, 26, 27, ...</td>\n",
       "      <td>{'credit_id': ['567e74d4c3a36860e9008e46', '52...</td>\n",
       "    </tr>\n",
       "    <tr>\n",
       "      <th>5174</th>\n",
       "      <td>140000000</td>\n",
       "      <td>22.571780</td>\n",
       "      <td>258022233</td>\n",
       "      <td>91.0</td>\n",
       "      <td>6.1</td>\n",
       "      <td>783</td>\n",
       "      <td>{'id': [28, 35, 80, 53], 'name': ['Action', 'C...</td>\n",
       "      <td>{'id': [1704], 'name': ['ambassador']}</td>\n",
       "      <td>en</td>\n",
       "      <td>Rush Hour 3</td>\n",
       "      <td>After an attempted assassination on Ambassador...</td>\n",
       "      <td>{'name': ['New Line Cinema'], 'id': [12]}</td>\n",
       "      <td>{'iso_3166_1': ['US'], 'name': ['United States...</td>\n",
       "      <td>2007-08-08</td>\n",
       "      <td>{'iso_639_1': ['la', 'en', 'fr', 'ja', 'zh'], ...</td>\n",
       "      <td>5174</td>\n",
       "      <td>{'cast_id': [2, 3, 4, 5, 6, 7, 8, 9, 26, 27, 2...</td>\n",
       "      <td>{'credit_id': ['52fe43fac3a36847f807b5bd', '52...</td>\n",
       "    </tr>\n",
       "    <tr>\n",
       "      <th>1735</th>\n",
       "      <td>145000000</td>\n",
       "      <td>60.034162</td>\n",
       "      <td>401128639</td>\n",
       "      <td>112.0</td>\n",
       "      <td>5.2</td>\n",
       "      <td>1387</td>\n",
       "      <td>{'id': [12, 28, 14], 'name': ['Adventure', 'Ac...</td>\n",
       "      <td>{}</td>\n",
       "      <td>en</td>\n",
       "      <td>The Mummy: Tomb of the Dragon Emperor</td>\n",
       "      <td>Archaeologist Rick O'Connell travels to China,...</td>\n",
       "      <td>{'name': ['Universal Pictures', 'China Film Co...</td>\n",
       "      <td>{'iso_3166_1': ['DE', 'US'], 'name': ['Germany...</td>\n",
       "      <td>2008-07-01</td>\n",
       "      <td>{'iso_639_1': ['en', 'zh', 'sa'], 'name': ['En...</td>\n",
       "      <td>1735</td>\n",
       "      <td>{'cast_id': [1, 2, 8, 12, 13, 14, 15, 16, 17, ...</td>\n",
       "      <td>{'credit_id': ['52fe4312c3a36847f80384c5', '52...</td>\n",
       "    </tr>\n",
       "    <tr>\n",
       "      <th>79698</th>\n",
       "      <td>27000000</td>\n",
       "      <td>2.418535</td>\n",
       "      <td>0</td>\n",
       "      <td>109.0</td>\n",
       "      <td>4.8</td>\n",
       "      <td>34</td>\n",
       "      <td>{'id': [28, 12, 878, 10749], 'name': ['Action'...</td>\n",
       "      <td>{}</td>\n",
       "      <td>en</td>\n",
       "      <td>The Lovers</td>\n",
       "      <td>The Lovers is an epic romance time travel adve...</td>\n",
       "      <td>{'name': ['Corsan', 'Bliss Media', 'Limelight ...</td>\n",
       "      <td>{'iso_3166_1': ['AU', 'BE', 'IN'], 'name': ['A...</td>\n",
       "      <td>2015-02-13</td>\n",
       "      <td>{'iso_639_1': ['en'], 'name': ['English']}</td>\n",
       "      <td>79698</td>\n",
       "      <td>{'cast_id': [11, 13, 22, 17, 14, 15, 16, 18, 1...</td>\n",
       "      <td>{'credit_id': ['52fe49e0c3a368484e145067', '57...</td>\n",
       "    </tr>\n",
       "  </tbody>\n",
       "</table>\n",
       "</div>"
      ],
      "text/plain": [
       "          budget  popularity    revenue  runtime  vote_average  vote_count  \\\n",
       "id                                                                           \n",
       "64682  105000000   61.196071  351040419    143.0           7.3        3769   \n",
       "9543   150000000   62.169881  335154643    116.0           6.2        2317   \n",
       "5174   140000000   22.571780  258022233     91.0           6.1         783   \n",
       "1735   145000000   60.034162  401128639    112.0           5.2        1387   \n",
       "79698   27000000    2.418535          0    109.0           4.8          34   \n",
       "\n",
       "                                                  genres  \\\n",
       "id                                                         \n",
       "64682  {'id': [18, 10749], 'name': ['Drama', 'Romance']}   \n",
       "9543   {'id': [12, 14, 28, 10749], 'name': ['Adventur...   \n",
       "5174   {'id': [28, 35, 80, 53], 'name': ['Action', 'C...   \n",
       "1735   {'id': [12, 28, 14], 'name': ['Adventure', 'Ac...   \n",
       "79698  {'id': [28, 12, 878, 10749], 'name': ['Action'...   \n",
       "\n",
       "                                                keywords original_language  \\\n",
       "id                                                                           \n",
       "64682  {'id': [818, 1326, 1523, 3929, 209714], 'name'...                en   \n",
       "9543   {'id': [1241, 1965, 12653, 12654, 12655, 41645...                en   \n",
       "5174              {'id': [1704], 'name': ['ambassador']}                en   \n",
       "1735                                                  {}                en   \n",
       "79698                                                 {}                en   \n",
       "\n",
       "                              original_title  \\\n",
       "id                                             \n",
       "64682                       The Great Gatsby   \n",
       "9543     Prince of Persia: The Sands of Time   \n",
       "5174                             Rush Hour 3   \n",
       "1735   The Mummy: Tomb of the Dragon Emperor   \n",
       "79698                             The Lovers   \n",
       "\n",
       "                                                overview  \\\n",
       "id                                                         \n",
       "64682  An adaptation of F. Scott Fitzgerald's Long Is...   \n",
       "9543   A rogue prince reluctantly joins forces with a...   \n",
       "5174   After an attempted assassination on Ambassador...   \n",
       "1735   Archaeologist Rick O'Connell travels to China,...   \n",
       "79698  The Lovers is an epic romance time travel adve...   \n",
       "\n",
       "                                    production_companies  \\\n",
       "id                                                         \n",
       "64682  {'name': ['Village Roadshow Pictures', 'Bazmar...   \n",
       "9543   {'name': ['Walt Disney Pictures', 'Jerry Bruck...   \n",
       "5174           {'name': ['New Line Cinema'], 'id': [12]}   \n",
       "1735   {'name': ['Universal Pictures', 'China Film Co...   \n",
       "79698  {'name': ['Corsan', 'Bliss Media', 'Limelight ...   \n",
       "\n",
       "                                    production_countries release_date  \\\n",
       "id                                                                      \n",
       "64682  {'iso_3166_1': ['US', 'AU'], 'name': ['United ...   2013-05-10   \n",
       "9543   {'iso_3166_1': ['US'], 'name': ['United States...   2010-05-19   \n",
       "5174   {'iso_3166_1': ['US'], 'name': ['United States...   2007-08-08   \n",
       "1735   {'iso_3166_1': ['DE', 'US'], 'name': ['Germany...   2008-07-01   \n",
       "79698  {'iso_3166_1': ['AU', 'BE', 'IN'], 'name': ['A...   2015-02-13   \n",
       "\n",
       "                                        spoken_languages  movie_id  \\\n",
       "id                                                                   \n",
       "64682         {'iso_639_1': ['en'], 'name': ['English']}     64682   \n",
       "9543          {'iso_639_1': ['en'], 'name': ['English']}      9543   \n",
       "5174   {'iso_639_1': ['la', 'en', 'fr', 'ja', 'zh'], ...      5174   \n",
       "1735   {'iso_639_1': ['en', 'zh', 'sa'], 'name': ['En...      1735   \n",
       "79698         {'iso_639_1': ['en'], 'name': ['English']}     79698   \n",
       "\n",
       "                                                    cast  \\\n",
       "id                                                         \n",
       "64682  {'cast_id': [2, 5, 3, 8, 6, 4, 7, 22, 13, 23, ...   \n",
       "9543   {'cast_id': [5, 2, 7, 4, 6, 8, 9, 10, 26, 27, ...   \n",
       "5174   {'cast_id': [2, 3, 4, 5, 6, 7, 8, 9, 26, 27, 2...   \n",
       "1735   {'cast_id': [1, 2, 8, 12, 13, 14, 15, 16, 17, ...   \n",
       "79698  {'cast_id': [11, 13, 22, 17, 14, 15, 16, 18, 1...   \n",
       "\n",
       "                                                    crew  \n",
       "id                                                        \n",
       "64682  {'credit_id': ['52fe46e3c3a368484e0a982d', '52...  \n",
       "9543   {'credit_id': ['567e74d4c3a36860e9008e46', '52...  \n",
       "5174   {'credit_id': ['52fe43fac3a36847f807b5bd', '52...  \n",
       "1735   {'credit_id': ['52fe4312c3a36847f80384c5', '52...  \n",
       "79698  {'credit_id': ['52fe49e0c3a368484e145067', '57...  "
      ]
     },
     "execution_count": 5,
     "metadata": {},
     "output_type": "execute_result"
    }
   ],
   "source": [
    "movie_details_neat = pd.read_pickle(cwd + data_dir + 'pre-processed/movie_details_neat.pkl')\n",
    "\n",
    "movie_details_neat.set_index('id').head()"
   ]
  },
  {
   "cell_type": "markdown",
   "metadata": {},
   "source": [
    "We want to select independent variables for training during machine learning modelling. I ignored some non-useful variables, such as film title and homepage. Obviously these can’t be used to predict the success of a movie.\n",
    "\n",
    "Some variables were discarded for other reasons: production_country, because I felt that the information therein would be stored in production_company. Original_language, because I felt that that column would mostly be covered by spoken_languages, with a few exceptions. Popularity, because obviously that was measured after the film was released."
   ]
  },
  {
   "cell_type": "code",
   "execution_count": 6,
   "metadata": {},
   "outputs": [],
   "source": [
    "movie_neat_filter = movie_details_neat.drop(columns=[\"original_title\", \"original_language\", \"popularity\"], axis=1)"
   ]
  },
  {
   "cell_type": "code",
   "execution_count": 7,
   "metadata": {},
   "outputs": [],
   "source": [
    "# meaning out 0 budgets - there are a lot, so this is better than removing the rows\n",
    "movie_neat_filter['budget']=movie_neat_filter['budget'].replace(0,movie_neat_filter['budget'].median())"
   ]
  },
  {
   "cell_type": "markdown",
   "metadata": {},
   "source": [
    "The variables used for model prediction were:\n",
    "User vote (akin to IMDb rating, referred to as ‘rating’ throughout)\n",
    "User-reported box office revenue (referred to as ‘revenue’ throughout)"
   ]
  },
  {
   "cell_type": "code",
   "execution_count": 8,
   "metadata": {},
   "outputs": [],
   "source": [
    "# Removing zero REVENUES from the data - revenue is super important as this will \n",
    "# be one of the variables we want to predict\n",
    "\n",
    "def remove_zero_revenue(y_revenue, y_rating, X):\n",
    "    y_revenue_removed = []\n",
    "    y_rating_removed = []\n",
    "    X_removed = []\n",
    "\n",
    "    for l in range(0,len(y_revenue)):\n",
    "        if y_revenue[l] !=0:\n",
    "            y_revenue_removed.append(y_revenue[l])\n",
    "            y_rating_removed.append(y_rating[l])\n",
    "            X_removed.append(X[l])        \n",
    "    y_revenue = np.array(y_revenue_removed)\n",
    "    y_rating = np.array(y_rating_removed)\n",
    "    X = np.array(X_removed)\n",
    "    return y_revenue, y_rating, X"
   ]
  },
  {
   "cell_type": "code",
   "execution_count": 15,
   "metadata": {},
   "outputs": [],
   "source": [
    "X = movie_neat_filter.iloc[:, :].values\n",
    "y_revenue = movie_neat_filter.iloc[:, 2].values\n",
    "y_rating = movie_neat_filter.iloc[:, 4].values"
   ]
  },
  {
   "cell_type": "code",
   "execution_count": 18,
   "metadata": {},
   "outputs": [],
   "source": [
    "#storing removed rows in numpy arrays\n",
    "y_revenue_nonull, y_rating_nonull, X_nonull = remove_zero_revenue(y_revenue, y_rating, X)"
   ]
  },
  {
   "cell_type": "code",
   "execution_count": 19,
   "metadata": {},
   "outputs": [],
   "source": [
    "movie_filter_rev = movie_neat_filter[movie_neat_filter.revenue != 0]"
   ]
  },
  {
   "cell_type": "markdown",
   "metadata": {},
   "source": [
    "We want to remove the year from our data as we will not be addressing revenue prediction using time series analysis, and just take into account the seasonality of the release."
   ]
  },
  {
   "cell_type": "code",
   "execution_count": 20,
   "metadata": {},
   "outputs": [],
   "source": [
    "# converting film date to day of year\n",
    "# i am arguably losing the 'year' which might be slightly correlated with film success\n",
    "# but that opens up a whole new can of worms about ratings and revenues by year\n",
    "def remove_year(df):\n",
    "    datetime_object = list(map(lambda x: datetime.strptime(x,'%Y-%m-%d'), df['release_date']))\n",
    "    datetime_tuple_ls = []\n",
    "    for l in datetime_object:\n",
    "        datetime_tuple = l.timetuple().tm_yday\n",
    "        datetime_tuple_ls.append(datetime_tuple)\n",
    "    df['release_date'] = datetime_tuple_ls\n",
    "    return df"
   ]
  },
  {
   "cell_type": "code",
   "execution_count": 26,
   "metadata": {},
   "outputs": [
    {
     "name": "stderr",
     "output_type": "stream",
     "text": [
      "/Users/admin/.local/share/virtualenvs/datatonic-challenge-ErycU493/lib/python3.7/site-packages/ipykernel_launcher.py:10: SettingWithCopyWarning: \n",
      "A value is trying to be set on a copy of a slice from a DataFrame.\n",
      "Try using .loc[row_indexer,col_indexer] = value instead\n",
      "\n",
      "See the caveats in the documentation: https://pandas.pydata.org/pandas-docs/stable/user_guide/indexing.html#returning-a-view-versus-a-copy\n",
      "  # Remove the CWD from sys.path while we load stuff.\n"
     ]
    }
   ],
   "source": [
    "movie_no_year = remove_year(movie_filter_rev)"
   ]
  },
  {
   "cell_type": "code",
   "execution_count": 27,
   "metadata": {},
   "outputs": [],
   "source": [
    "movie_no_year.to_pickle(cwd + data_dir+\"pre-processed/movie_with_numeric_processing.pkl\")\n"
   ]
  },
  {
   "cell_type": "code",
   "execution_count": null,
   "metadata": {},
   "outputs": [],
   "source": []
  }
 ],
 "metadata": {
  "kernelspec": {
   "display_name": "Python 3",
   "language": "python",
   "name": "python3"
  },
  "language_info": {
   "codemirror_mode": {
    "name": "ipython",
    "version": 3
   },
   "file_extension": ".py",
   "mimetype": "text/x-python",
   "name": "python",
   "nbconvert_exporter": "python",
   "pygments_lexer": "ipython3",
   "version": "3.7.7"
  }
 },
 "nbformat": 4,
 "nbformat_minor": 4
}

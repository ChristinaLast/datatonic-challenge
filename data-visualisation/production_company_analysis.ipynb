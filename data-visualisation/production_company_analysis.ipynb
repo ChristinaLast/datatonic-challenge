{
 "cells": [
  {
   "cell_type": "markdown",
   "metadata": {},
   "source": [
    "# Production companies and production countries\n",
    "\n",
    "This notebook is used to aggregate performances of different production companies and production countries. This is interesting because "
   ]
  },
  {
   "cell_type": "code",
   "execution_count": 1,
   "metadata": {},
   "outputs": [],
   "source": [
    "import sys\n",
    "import os\n",
    "from tqdm import tqdm\n",
    "import numpy as np\n",
    "\n",
    "sys.path.insert(0, os.path.abspath('../utils/')) #point this to the where util is relatively to your working directory\n",
    "\n",
    "from util import *\n",
    "from util import get_averages_for_columns\n",
    "\n",
    "data_dir = get_path_to_data_dir()"
   ]
  },
  {
   "cell_type": "markdown",
   "metadata": {},
   "source": [
    "Getting the cleaned dataset"
   ]
  },
  {
   "cell_type": "code",
   "execution_count": 2,
   "metadata": {},
   "outputs": [
    {
     "data": {
      "text/html": [
       "<div>\n",
       "<style scoped>\n",
       "    .dataframe tbody tr th:only-of-type {\n",
       "        vertical-align: middle;\n",
       "    }\n",
       "\n",
       "    .dataframe tbody tr th {\n",
       "        vertical-align: top;\n",
       "    }\n",
       "\n",
       "    .dataframe thead th {\n",
       "        text-align: right;\n",
       "    }\n",
       "</style>\n",
       "<table border=\"1\" class=\"dataframe\">\n",
       "  <thead>\n",
       "    <tr style=\"text-align: right;\">\n",
       "      <th></th>\n",
       "      <th>budget</th>\n",
       "      <th>id</th>\n",
       "      <th>popularity</th>\n",
       "      <th>revenue</th>\n",
       "      <th>runtime</th>\n",
       "      <th>vote_average</th>\n",
       "      <th>vote_count</th>\n",
       "      <th>genres</th>\n",
       "      <th>keywords</th>\n",
       "      <th>original_language</th>\n",
       "      <th>original_title</th>\n",
       "      <th>overview</th>\n",
       "      <th>production_companies</th>\n",
       "      <th>production_countries</th>\n",
       "      <th>release_date</th>\n",
       "      <th>spoken_languages</th>\n",
       "      <th>movie_id</th>\n",
       "      <th>cast</th>\n",
       "      <th>crew</th>\n",
       "    </tr>\n",
       "  </thead>\n",
       "  <tbody>\n",
       "    <tr>\n",
       "      <th>0</th>\n",
       "      <td>105000000</td>\n",
       "      <td>64682</td>\n",
       "      <td>61.196071</td>\n",
       "      <td>351040419</td>\n",
       "      <td>143.0</td>\n",
       "      <td>7.3</td>\n",
       "      <td>3769</td>\n",
       "      <td>{'id': [18, 10749], 'name': ['Drama', 'Romance']}</td>\n",
       "      <td>{'id': [818, 1326, 1523, 3929, 209714], 'name'...</td>\n",
       "      <td>en</td>\n",
       "      <td>The Great Gatsby</td>\n",
       "      <td>An adaptation of F. Scott Fitzgerald's Long Is...</td>\n",
       "      <td>{'name': ['Village Roadshow Pictures', 'Bazmar...</td>\n",
       "      <td>{'iso_3166_1': ['US', 'AU'], 'name': ['United ...</td>\n",
       "      <td>2013-05-10</td>\n",
       "      <td>{'iso_639_1': ['en'], 'name': ['English']}</td>\n",
       "      <td>64682</td>\n",
       "      <td>{'cast_id': [2, 5, 3, 8, 6, 4, 7, 22, 13, 23, ...</td>\n",
       "      <td>{'credit_id': ['52fe46e3c3a368484e0a982d', '52...</td>\n",
       "    </tr>\n",
       "    <tr>\n",
       "      <th>1</th>\n",
       "      <td>150000000</td>\n",
       "      <td>9543</td>\n",
       "      <td>62.169881</td>\n",
       "      <td>335154643</td>\n",
       "      <td>116.0</td>\n",
       "      <td>6.2</td>\n",
       "      <td>2317</td>\n",
       "      <td>{'id': [12, 14, 28, 10749], 'name': ['Adventur...</td>\n",
       "      <td>{'id': [1241, 1965, 12653, 12654, 12655, 41645...</td>\n",
       "      <td>en</td>\n",
       "      <td>Prince of Persia: The Sands of Time</td>\n",
       "      <td>A rogue prince reluctantly joins forces with a...</td>\n",
       "      <td>{'name': ['Walt Disney Pictures', 'Jerry Bruck...</td>\n",
       "      <td>{'iso_3166_1': ['US'], 'name': ['United States...</td>\n",
       "      <td>2010-05-19</td>\n",
       "      <td>{'iso_639_1': ['en'], 'name': ['English']}</td>\n",
       "      <td>9543</td>\n",
       "      <td>{'cast_id': [5, 2, 7, 4, 6, 8, 9, 10, 26, 27, ...</td>\n",
       "      <td>{'credit_id': ['567e74d4c3a36860e9008e46', '52...</td>\n",
       "    </tr>\n",
       "    <tr>\n",
       "      <th>2</th>\n",
       "      <td>140000000</td>\n",
       "      <td>5174</td>\n",
       "      <td>22.571780</td>\n",
       "      <td>258022233</td>\n",
       "      <td>91.0</td>\n",
       "      <td>6.1</td>\n",
       "      <td>783</td>\n",
       "      <td>{'id': [28, 35, 80, 53], 'name': ['Action', 'C...</td>\n",
       "      <td>{'id': [1704], 'name': ['ambassador']}</td>\n",
       "      <td>en</td>\n",
       "      <td>Rush Hour 3</td>\n",
       "      <td>After an attempted assassination on Ambassador...</td>\n",
       "      <td>{'name': ['New Line Cinema'], 'id': [12]}</td>\n",
       "      <td>{'iso_3166_1': ['US'], 'name': ['United States...</td>\n",
       "      <td>2007-08-08</td>\n",
       "      <td>{'iso_639_1': ['la', 'en', 'fr', 'ja', 'zh'], ...</td>\n",
       "      <td>5174</td>\n",
       "      <td>{'cast_id': [2, 3, 4, 5, 6, 7, 8, 9, 26, 27, 2...</td>\n",
       "      <td>{'credit_id': ['52fe43fac3a36847f807b5bd', '52...</td>\n",
       "    </tr>\n",
       "    <tr>\n",
       "      <th>3</th>\n",
       "      <td>145000000</td>\n",
       "      <td>1735</td>\n",
       "      <td>60.034162</td>\n",
       "      <td>401128639</td>\n",
       "      <td>112.0</td>\n",
       "      <td>5.2</td>\n",
       "      <td>1387</td>\n",
       "      <td>{'id': [12, 28, 14], 'name': ['Adventure', 'Ac...</td>\n",
       "      <td>{}</td>\n",
       "      <td>en</td>\n",
       "      <td>The Mummy: Tomb of the Dragon Emperor</td>\n",
       "      <td>Archaeologist Rick O'Connell travels to China,...</td>\n",
       "      <td>{'name': ['Universal Pictures', 'China Film Co...</td>\n",
       "      <td>{'iso_3166_1': ['DE', 'US'], 'name': ['Germany...</td>\n",
       "      <td>2008-07-01</td>\n",
       "      <td>{'iso_639_1': ['en', 'zh', 'sa'], 'name': ['En...</td>\n",
       "      <td>1735</td>\n",
       "      <td>{'cast_id': [1, 2, 8, 12, 13, 14, 15, 16, 17, ...</td>\n",
       "      <td>{'credit_id': ['52fe4312c3a36847f80384c5', '52...</td>\n",
       "    </tr>\n",
       "    <tr>\n",
       "      <th>4</th>\n",
       "      <td>27000000</td>\n",
       "      <td>79698</td>\n",
       "      <td>2.418535</td>\n",
       "      <td>0</td>\n",
       "      <td>109.0</td>\n",
       "      <td>4.8</td>\n",
       "      <td>34</td>\n",
       "      <td>{'id': [28, 12, 878, 10749], 'name': ['Action'...</td>\n",
       "      <td>{}</td>\n",
       "      <td>en</td>\n",
       "      <td>The Lovers</td>\n",
       "      <td>The Lovers is an epic romance time travel adve...</td>\n",
       "      <td>{'name': ['Corsan', 'Bliss Media', 'Limelight ...</td>\n",
       "      <td>{'iso_3166_1': ['AU', 'BE', 'IN'], 'name': ['A...</td>\n",
       "      <td>2015-02-13</td>\n",
       "      <td>{'iso_639_1': ['en'], 'name': ['English']}</td>\n",
       "      <td>79698</td>\n",
       "      <td>{'cast_id': [11, 13, 22, 17, 14, 15, 16, 18, 1...</td>\n",
       "      <td>{'credit_id': ['52fe49e0c3a368484e145067', '57...</td>\n",
       "    </tr>\n",
       "  </tbody>\n",
       "</table>\n",
       "</div>"
      ],
      "text/plain": [
       "      budget     id  popularity    revenue  runtime  vote_average  vote_count  \\\n",
       "0  105000000  64682   61.196071  351040419    143.0           7.3        3769   \n",
       "1  150000000   9543   62.169881  335154643    116.0           6.2        2317   \n",
       "2  140000000   5174   22.571780  258022233     91.0           6.1         783   \n",
       "3  145000000   1735   60.034162  401128639    112.0           5.2        1387   \n",
       "4   27000000  79698    2.418535          0    109.0           4.8          34   \n",
       "\n",
       "                                              genres  \\\n",
       "0  {'id': [18, 10749], 'name': ['Drama', 'Romance']}   \n",
       "1  {'id': [12, 14, 28, 10749], 'name': ['Adventur...   \n",
       "2  {'id': [28, 35, 80, 53], 'name': ['Action', 'C...   \n",
       "3  {'id': [12, 28, 14], 'name': ['Adventure', 'Ac...   \n",
       "4  {'id': [28, 12, 878, 10749], 'name': ['Action'...   \n",
       "\n",
       "                                            keywords original_language  \\\n",
       "0  {'id': [818, 1326, 1523, 3929, 209714], 'name'...                en   \n",
       "1  {'id': [1241, 1965, 12653, 12654, 12655, 41645...                en   \n",
       "2             {'id': [1704], 'name': ['ambassador']}                en   \n",
       "3                                                 {}                en   \n",
       "4                                                 {}                en   \n",
       "\n",
       "                          original_title  \\\n",
       "0                       The Great Gatsby   \n",
       "1    Prince of Persia: The Sands of Time   \n",
       "2                            Rush Hour 3   \n",
       "3  The Mummy: Tomb of the Dragon Emperor   \n",
       "4                             The Lovers   \n",
       "\n",
       "                                            overview  \\\n",
       "0  An adaptation of F. Scott Fitzgerald's Long Is...   \n",
       "1  A rogue prince reluctantly joins forces with a...   \n",
       "2  After an attempted assassination on Ambassador...   \n",
       "3  Archaeologist Rick O'Connell travels to China,...   \n",
       "4  The Lovers is an epic romance time travel adve...   \n",
       "\n",
       "                                production_companies  \\\n",
       "0  {'name': ['Village Roadshow Pictures', 'Bazmar...   \n",
       "1  {'name': ['Walt Disney Pictures', 'Jerry Bruck...   \n",
       "2          {'name': ['New Line Cinema'], 'id': [12]}   \n",
       "3  {'name': ['Universal Pictures', 'China Film Co...   \n",
       "4  {'name': ['Corsan', 'Bliss Media', 'Limelight ...   \n",
       "\n",
       "                                production_countries release_date  \\\n",
       "0  {'iso_3166_1': ['US', 'AU'], 'name': ['United ...   2013-05-10   \n",
       "1  {'iso_3166_1': ['US'], 'name': ['United States...   2010-05-19   \n",
       "2  {'iso_3166_1': ['US'], 'name': ['United States...   2007-08-08   \n",
       "3  {'iso_3166_1': ['DE', 'US'], 'name': ['Germany...   2008-07-01   \n",
       "4  {'iso_3166_1': ['AU', 'BE', 'IN'], 'name': ['A...   2015-02-13   \n",
       "\n",
       "                                    spoken_languages  movie_id  \\\n",
       "0         {'iso_639_1': ['en'], 'name': ['English']}     64682   \n",
       "1         {'iso_639_1': ['en'], 'name': ['English']}      9543   \n",
       "2  {'iso_639_1': ['la', 'en', 'fr', 'ja', 'zh'], ...      5174   \n",
       "3  {'iso_639_1': ['en', 'zh', 'sa'], 'name': ['En...      1735   \n",
       "4         {'iso_639_1': ['en'], 'name': ['English']}     79698   \n",
       "\n",
       "                                                cast  \\\n",
       "0  {'cast_id': [2, 5, 3, 8, 6, 4, 7, 22, 13, 23, ...   \n",
       "1  {'cast_id': [5, 2, 7, 4, 6, 8, 9, 10, 26, 27, ...   \n",
       "2  {'cast_id': [2, 3, 4, 5, 6, 7, 8, 9, 26, 27, 2...   \n",
       "3  {'cast_id': [1, 2, 8, 12, 13, 14, 15, 16, 17, ...   \n",
       "4  {'cast_id': [11, 13, 22, 17, 14, 15, 16, 18, 1...   \n",
       "\n",
       "                                                crew  \n",
       "0  {'credit_id': ['52fe46e3c3a368484e0a982d', '52...  \n",
       "1  {'credit_id': ['567e74d4c3a36860e9008e46', '52...  \n",
       "2  {'credit_id': ['52fe43fac3a36847f807b5bd', '52...  \n",
       "3  {'credit_id': ['52fe4312c3a36847f80384c5', '52...  \n",
       "4  {'credit_id': ['52fe49e0c3a368484e145067', '57...  "
      ]
     },
     "execution_count": 2,
     "metadata": {},
     "output_type": "execute_result"
    }
   ],
   "source": [
    "movie_details_neat = pd.read_pickle(data_dir + 'pre-processed/movie_details_neat.pkl')\n",
    "\n",
    "movie_details_neat.head()"
   ]
  },
  {
   "cell_type": "code",
   "execution_count": 3,
   "metadata": {},
   "outputs": [],
   "source": [
    "with open(data_dir + 'pre-processed/id_maps.json', 'r') as f:\n",
    "    id_maps = json.load(f)"
   ]
  },
  {
   "cell_type": "code",
   "execution_count": 4,
   "metadata": {},
   "outputs": [],
   "source": [
    "def check_category(id_maps, column_name):\n",
    "    print(json.dumps(id_maps[column_name], indent=4))"
   ]
  },
  {
   "cell_type": "code",
   "execution_count": 5,
   "metadata": {},
   "outputs": [
    {
     "name": "stdout",
     "output_type": "stream",
     "text": [
      "{\n",
      "    \"US\": \"United States of America\",\n",
      "    \"AU\": \"Australia\",\n",
      "    \"DE\": \"Germany\",\n",
      "    \"BE\": \"Belgium\",\n",
      "    \"IN\": \"India\",\n",
      "    \"JP\": \"Japan\",\n",
      "    \"GB\": \"United Kingdom\",\n",
      "    \"CA\": \"Canada\",\n",
      "    \"IT\": \"Italy\",\n",
      "    \"ES\": \"Spain\",\n",
      "    \"CN\": \"China\",\n",
      "    \"NZ\": \"New Zealand\",\n",
      "    \"FR\": \"France\",\n",
      "    \"HK\": \"Hong Kong\",\n",
      "    \"IE\": \"Ireland\",\n",
      "    \"MA\": \"Morocco\",\n",
      "    \"HU\": \"Hungary\",\n",
      "    \"SG\": \"Singapore\",\n",
      "    \"NO\": \"Norway\",\n",
      "    \"SE\": \"Sweden\",\n",
      "    \"ZA\": \"South Africa\",\n",
      "    \"RU\": \"Russia\",\n",
      "    \"RO\": \"Romania\",\n",
      "    \"MX\": \"Mexico\",\n",
      "    \"CZ\": \"Czech Republic\",\n",
      "    \"MC\": \"Monaco\",\n",
      "    \"CH\": \"Switzerland\",\n",
      "    \"PK\": \"Pakistan\",\n",
      "    \"MY\": \"Malaysia\",\n",
      "    \"FI\": \"Finland\",\n",
      "    \"IS\": \"Iceland\",\n",
      "    \"DK\": \"Denmark\",\n",
      "    \"TN\": \"Tunisia\",\n",
      "    \"PH\": \"Philippines\",\n",
      "    \"AE\": \"United Arab Emirates\",\n",
      "    \"BG\": \"Bulgaria\",\n",
      "    \"MT\": \"Malta\",\n",
      "    \"KR\": \"South Korea\",\n",
      "    \"BR\": \"Brazil\",\n",
      "    \"PE\": \"Peru\",\n",
      "    \"NL\": \"Netherlands\",\n",
      "    \"LU\": \"Luxembourg\",\n",
      "    \"BA\": \"Bosnia and Herzegovina\",\n",
      "    \"KZ\": \"Kazakhstan\",\n",
      "    \"PT\": \"Portugal\",\n",
      "    \"PL\": \"Poland\",\n",
      "    \"AW\": \"Aruba\",\n",
      "    \"LY\": \"Libyan Arab Jamahiriya\",\n",
      "    \"RS\": \"Serbia\",\n",
      "    \"UA\": \"Ukraine\",\n",
      "    \"CL\": \"Chile\",\n",
      "    \"AR\": \"Argentina\",\n",
      "    \"PA\": \"Panama\",\n",
      "    \"AT\": \"Austria\",\n",
      "    \"GR\": \"Greece\",\n",
      "    \"TW\": \"Taiwan\",\n",
      "    \"LT\": \"Lithuania\",\n",
      "    \"TH\": \"Thailand\",\n",
      "    \"SK\": \"Slovakia\",\n",
      "    \"IL\": \"Israel\",\n",
      "    \"FJ\": \"Fiji\",\n",
      "    \"CS\": \"Serbia and Montenegro\",\n",
      "    \"BS\": \"Bahamas\",\n",
      "    \"TR\": \"Turkey\",\n",
      "    \"NG\": \"Nigeria\",\n",
      "    \"CY\": \"Cyprus\",\n",
      "    \"JO\": \"Jordan\",\n",
      "    \"BO\": \"Bolivia\",\n",
      "    \"EC\": \"Ecuador\",\n",
      "    \"CO\": \"Colombia\",\n",
      "    \"EG\": \"Egypt\",\n",
      "    \"BT\": \"Bhutan\",\n",
      "    \"LB\": \"Lebanon\",\n",
      "    \"ID\": \"Indonesia\",\n",
      "    \"JM\": \"Jamaica\",\n",
      "    \"GY\": \"Guyana\",\n",
      "    \"IR\": \"Iran\",\n",
      "    \"AF\": \"Afghanistan\",\n",
      "    \"AO\": \"Angola\",\n",
      "    \"CM\": \"Cameroon\"\n",
      "}\n"
     ]
    }
   ],
   "source": [
    "check_category(id_maps, 'production_countries')"
   ]
  },
  {
   "cell_type": "markdown",
   "metadata": {},
   "source": [
    "### Testing the `get_averages_for_columns()` function\n",
    "This function generates the average values on the categories in the columns.\n",
    "\n",
    "        Args:\n",
    "                df: the dataframe\n",
    "                id_maps: collection of maps from ids to category for different columns\n",
    "                id_key_name: the actual key to the ids. e.g. 'id', 'crew_id', 'cast_id'\n",
    "                column_name: name of the column to query. e.g. genres\n",
    "                save: if True it will save the file to the data/pre-processed directory.\n",
    "\t\tsave_dir: location to save the generated DataFrame.\n",
    "\n",
    "        Returns:\n",
    "                Dataframe aggregated by the chosen column."
   ]
  },
  {
   "cell_type": "code",
   "execution_count": 6,
   "metadata": {},
   "outputs": [
    {
     "name": "stderr",
     "output_type": "stream",
     "text": [
      "\r",
      "  0%|          | 0/4741 [00:00<?, ?it/s]"
     ]
    },
    {
     "name": "stderr",
     "output_type": "stream",
     "text": [
      "\r",
      "  0%|          | 12/4741 [00:00<00:41, 114.16it/s]"
     ]
    },
    {
     "name": "stderr",
     "output_type": "stream",
     "text": [
      "\r",
      "  1%|          | 25/4741 [00:00<00:40, 115.74it/s]"
     ]
    },
    {
     "name": "stderr",
     "output_type": "stream",
     "text": [
      "\r",
      "  1%|          | 34/4741 [00:00<00:44, 104.99it/s]"
     ]
    },
    {
     "name": "stderr",
     "output_type": "stream",
     "text": [
      "\r",
      "  1%|          | 48/4741 [00:00<00:42, 111.66it/s]"
     ]
    },
    {
     "name": "stderr",
     "output_type": "stream",
     "text": [
      "\r",
      "  1%|▏         | 62/4741 [00:00<00:39, 118.03it/s]"
     ]
    },
    {
     "name": "stderr",
     "output_type": "stream",
     "text": [
      "\r",
      "  2%|▏         | 76/4741 [00:00<00:37, 122.84it/s]"
     ]
    },
    {
     "name": "stderr",
     "output_type": "stream",
     "text": [
      "\r",
      "  2%|▏         | 90/4741 [00:00<00:36, 126.24it/s]"
     ]
    },
    {
     "name": "stderr",
     "output_type": "stream",
     "text": [
      "\r",
      "  2%|▏         | 104/4741 [00:00<00:35, 128.94it/s]"
     ]
    },
    {
     "name": "stderr",
     "output_type": "stream",
     "text": [
      "\r",
      "  2%|▏         | 118/4741 [00:00<00:35, 130.73it/s]"
     ]
    },
    {
     "name": "stderr",
     "output_type": "stream",
     "text": [
      "\r",
      "  3%|▎         | 132/4741 [00:01<00:34, 131.70it/s]"
     ]
    },
    {
     "name": "stderr",
     "output_type": "stream",
     "text": [
      "\r",
      "  3%|▎         | 146/4741 [00:01<00:34, 133.65it/s]"
     ]
    },
    {
     "name": "stderr",
     "output_type": "stream",
     "text": [
      "\r",
      "  3%|▎         | 160/4741 [00:01<00:33, 134.77it/s]"
     ]
    },
    {
     "name": "stderr",
     "output_type": "stream",
     "text": [
      "\r",
      "  4%|▎         | 174/4741 [00:01<00:34, 133.86it/s]"
     ]
    },
    {
     "name": "stderr",
     "output_type": "stream",
     "text": [
      "\r",
      "  4%|▍         | 188/4741 [00:01<00:33, 134.34it/s]"
     ]
    },
    {
     "name": "stderr",
     "output_type": "stream",
     "text": [
      "\r",
      "  4%|▍         | 202/4741 [00:01<00:33, 135.22it/s]"
     ]
    },
    {
     "name": "stderr",
     "output_type": "stream",
     "text": [
      "\r",
      "  5%|▍         | 216/4741 [00:01<00:33, 134.25it/s]"
     ]
    },
    {
     "name": "stderr",
     "output_type": "stream",
     "text": [
      "\r",
      "  5%|▍         | 230/4741 [00:01<00:33, 134.94it/s]"
     ]
    },
    {
     "name": "stderr",
     "output_type": "stream",
     "text": [
      "\r",
      "  5%|▌         | 244/4741 [00:01<00:33, 134.99it/s]"
     ]
    },
    {
     "name": "stderr",
     "output_type": "stream",
     "text": [
      "\r",
      "  5%|▌         | 258/4741 [00:01<00:33, 135.38it/s]"
     ]
    },
    {
     "name": "stderr",
     "output_type": "stream",
     "text": [
      "\r",
      "  6%|▌         | 272/4741 [00:02<00:32, 136.02it/s]"
     ]
    },
    {
     "name": "stderr",
     "output_type": "stream",
     "text": [
      "\r",
      "  6%|▌         | 286/4741 [00:02<00:32, 136.57it/s]"
     ]
    },
    {
     "name": "stderr",
     "output_type": "stream",
     "text": [
      "\r",
      "  6%|▋         | 300/4741 [00:02<00:33, 132.38it/s]"
     ]
    },
    {
     "name": "stderr",
     "output_type": "stream",
     "text": [
      "\r",
      "  7%|▋         | 314/4741 [00:02<00:33, 132.93it/s]"
     ]
    },
    {
     "name": "stderr",
     "output_type": "stream",
     "text": [
      "\r",
      "  7%|▋         | 328/4741 [00:02<00:33, 133.41it/s]"
     ]
    },
    {
     "name": "stderr",
     "output_type": "stream",
     "text": [
      "\r",
      "  7%|▋         | 342/4741 [00:02<00:32, 134.42it/s]"
     ]
    },
    {
     "name": "stderr",
     "output_type": "stream",
     "text": [
      "\r",
      "  8%|▊         | 356/4741 [00:02<00:32, 134.68it/s]"
     ]
    },
    {
     "name": "stderr",
     "output_type": "stream",
     "text": [
      "\r",
      "  8%|▊         | 370/4741 [00:02<00:32, 135.50it/s]"
     ]
    },
    {
     "name": "stderr",
     "output_type": "stream",
     "text": [
      "\r",
      "  8%|▊         | 384/4741 [00:02<00:32, 136.05it/s]"
     ]
    },
    {
     "name": "stderr",
     "output_type": "stream",
     "text": [
      "\r",
      "  8%|▊         | 398/4741 [00:03<00:31, 135.88it/s]"
     ]
    },
    {
     "name": "stderr",
     "output_type": "stream",
     "text": [
      "\r",
      "  9%|▊         | 412/4741 [00:03<00:31, 136.55it/s]"
     ]
    },
    {
     "name": "stderr",
     "output_type": "stream",
     "text": [
      "\r",
      "  9%|▉         | 426/4741 [00:03<00:31, 137.00it/s]"
     ]
    },
    {
     "name": "stderr",
     "output_type": "stream",
     "text": [
      "\r",
      "  9%|▉         | 440/4741 [00:03<00:31, 136.00it/s]"
     ]
    },
    {
     "name": "stderr",
     "output_type": "stream",
     "text": [
      "\r",
      " 10%|▉         | 454/4741 [00:03<00:31, 136.86it/s]"
     ]
    },
    {
     "name": "stderr",
     "output_type": "stream",
     "text": [
      "\r",
      " 10%|▉         | 468/4741 [00:03<00:31, 137.15it/s]"
     ]
    },
    {
     "name": "stderr",
     "output_type": "stream",
     "text": [
      "\r",
      " 10%|█         | 482/4741 [00:03<00:30, 137.51it/s]"
     ]
    },
    {
     "name": "stderr",
     "output_type": "stream",
     "text": [
      "\r",
      " 10%|█         | 496/4741 [00:03<00:31, 136.10it/s]"
     ]
    },
    {
     "name": "stderr",
     "output_type": "stream",
     "text": [
      "\r",
      " 11%|█         | 510/4741 [00:03<00:30, 136.87it/s]"
     ]
    },
    {
     "name": "stderr",
     "output_type": "stream",
     "text": [
      "\r",
      " 11%|█         | 524/4741 [00:03<00:30, 137.23it/s]"
     ]
    },
    {
     "name": "stderr",
     "output_type": "stream",
     "text": [
      "\r",
      " 11%|█▏        | 538/4741 [00:04<00:30, 137.28it/s]"
     ]
    },
    {
     "name": "stderr",
     "output_type": "stream",
     "text": [
      "\r",
      " 12%|█▏        | 552/4741 [00:04<00:30, 137.92it/s]"
     ]
    },
    {
     "name": "stderr",
     "output_type": "stream",
     "text": [
      "\r",
      " 12%|█▏        | 566/4741 [00:04<00:30, 138.33it/s]"
     ]
    },
    {
     "name": "stderr",
     "output_type": "stream",
     "text": [
      "\r",
      " 12%|█▏        | 580/4741 [00:04<00:30, 136.69it/s]"
     ]
    },
    {
     "name": "stderr",
     "output_type": "stream",
     "text": [
      "\r",
      " 13%|█▎        | 594/4741 [00:04<00:30, 136.59it/s]"
     ]
    },
    {
     "name": "stderr",
     "output_type": "stream",
     "text": [
      "\r",
      " 13%|█▎        | 608/4741 [00:04<00:30, 136.85it/s]"
     ]
    },
    {
     "name": "stderr",
     "output_type": "stream",
     "text": [
      "\r",
      " 13%|█▎        | 622/4741 [00:04<00:30, 136.86it/s]"
     ]
    },
    {
     "name": "stderr",
     "output_type": "stream",
     "text": [
      "\r",
      " 13%|█▎        | 636/4741 [00:04<00:30, 135.12it/s]"
     ]
    },
    {
     "name": "stderr",
     "output_type": "stream",
     "text": [
      "\r",
      " 14%|█▎        | 650/4741 [00:04<00:30, 135.54it/s]"
     ]
    },
    {
     "name": "stderr",
     "output_type": "stream",
     "text": [
      "\r",
      " 14%|█▍        | 664/4741 [00:04<00:30, 135.34it/s]"
     ]
    },
    {
     "name": "stderr",
     "output_type": "stream",
     "text": [
      "\r",
      " 14%|█▍        | 678/4741 [00:05<00:29, 135.61it/s]"
     ]
    },
    {
     "name": "stderr",
     "output_type": "stream",
     "text": [
      "\r",
      " 15%|█▍        | 692/4741 [00:05<00:29, 135.71it/s]"
     ]
    },
    {
     "name": "stderr",
     "output_type": "stream",
     "text": [
      "\r",
      " 15%|█▍        | 706/4741 [00:05<00:29, 135.69it/s]"
     ]
    },
    {
     "name": "stderr",
     "output_type": "stream",
     "text": [
      "\r",
      " 15%|█▌        | 720/4741 [00:05<00:30, 130.16it/s]"
     ]
    },
    {
     "name": "stderr",
     "output_type": "stream",
     "text": [
      "\r",
      " 15%|█▌        | 734/4741 [00:05<00:30, 130.67it/s]"
     ]
    },
    {
     "name": "stderr",
     "output_type": "stream",
     "text": [
      "\r",
      " 16%|█▌        | 748/4741 [00:05<00:30, 131.18it/s]"
     ]
    },
    {
     "name": "stderr",
     "output_type": "stream",
     "text": [
      "\r",
      " 16%|█▌        | 762/4741 [00:05<00:30, 131.68it/s]"
     ]
    },
    {
     "name": "stderr",
     "output_type": "stream",
     "text": [
      "\r",
      " 16%|█▋        | 776/4741 [00:05<00:29, 133.46it/s]"
     ]
    },
    {
     "name": "stderr",
     "output_type": "stream",
     "text": [
      "\r",
      " 17%|█▋        | 790/4741 [00:05<00:29, 134.52it/s]"
     ]
    },
    {
     "name": "stderr",
     "output_type": "stream",
     "text": [
      "\r",
      " 17%|█▋        | 804/4741 [00:06<00:29, 135.40it/s]"
     ]
    },
    {
     "name": "stderr",
     "output_type": "stream",
     "text": [
      "\r",
      " 17%|█▋        | 818/4741 [00:06<00:28, 136.08it/s]"
     ]
    },
    {
     "name": "stderr",
     "output_type": "stream",
     "text": [
      "\r",
      " 18%|█▊        | 832/4741 [00:06<00:28, 136.51it/s]"
     ]
    },
    {
     "name": "stderr",
     "output_type": "stream",
     "text": [
      "\r",
      " 18%|█▊        | 846/4741 [00:06<00:28, 134.92it/s]"
     ]
    },
    {
     "name": "stderr",
     "output_type": "stream",
     "text": [
      "\r",
      " 18%|█▊        | 860/4741 [00:06<00:28, 135.16it/s]"
     ]
    },
    {
     "name": "stderr",
     "output_type": "stream",
     "text": [
      "\r",
      " 18%|█▊        | 874/4741 [00:06<00:28, 135.50it/s]"
     ]
    },
    {
     "name": "stderr",
     "output_type": "stream",
     "text": [
      "\r",
      " 19%|█▊        | 888/4741 [00:06<00:28, 135.23it/s]"
     ]
    },
    {
     "name": "stderr",
     "output_type": "stream",
     "text": [
      "\r",
      " 19%|█▉        | 902/4741 [00:06<00:28, 135.42it/s]"
     ]
    },
    {
     "name": "stderr",
     "output_type": "stream",
     "text": [
      "\r",
      " 19%|█▉        | 916/4741 [00:06<00:28, 135.55it/s]"
     ]
    },
    {
     "name": "stderr",
     "output_type": "stream",
     "text": [
      "\r",
      " 20%|█▉        | 930/4741 [00:06<00:28, 135.87it/s]"
     ]
    },
    {
     "name": "stderr",
     "output_type": "stream",
     "text": [
      "\r",
      " 20%|█▉        | 944/4741 [00:07<00:28, 135.42it/s]"
     ]
    },
    {
     "name": "stderr",
     "output_type": "stream",
     "text": [
      "\r",
      " 20%|██        | 958/4741 [00:07<00:27, 136.11it/s]"
     ]
    },
    {
     "name": "stderr",
     "output_type": "stream",
     "text": [
      "\r",
      " 21%|██        | 972/4741 [00:07<00:27, 136.05it/s]"
     ]
    },
    {
     "name": "stderr",
     "output_type": "stream",
     "text": [
      "\r",
      " 21%|██        | 986/4741 [00:07<00:27, 135.04it/s]"
     ]
    },
    {
     "name": "stderr",
     "output_type": "stream",
     "text": [
      "\r",
      " 21%|██        | 1000/4741 [00:07<00:27, 135.54it/s]"
     ]
    },
    {
     "name": "stderr",
     "output_type": "stream",
     "text": [
      "\r",
      " 21%|██▏       | 1014/4741 [00:07<00:27, 136.02it/s]"
     ]
    },
    {
     "name": "stderr",
     "output_type": "stream",
     "text": [
      "\r",
      " 22%|██▏       | 1028/4741 [00:07<00:27, 136.32it/s]"
     ]
    },
    {
     "name": "stderr",
     "output_type": "stream",
     "text": [
      "\r",
      " 22%|██▏       | 1042/4741 [00:07<00:27, 136.38it/s]"
     ]
    },
    {
     "name": "stderr",
     "output_type": "stream",
     "text": [
      "\r",
      " 22%|██▏       | 1056/4741 [00:07<00:26, 136.64it/s]"
     ]
    },
    {
     "name": "stderr",
     "output_type": "stream",
     "text": [
      "\r",
      " 23%|██▎       | 1070/4741 [00:07<00:26, 136.59it/s]"
     ]
    },
    {
     "name": "stderr",
     "output_type": "stream",
     "text": [
      "\r",
      " 23%|██▎       | 1084/4741 [00:08<00:26, 136.46it/s]"
     ]
    },
    {
     "name": "stderr",
     "output_type": "stream",
     "text": [
      "\r",
      " 23%|██▎       | 1098/4741 [00:08<00:26, 136.94it/s]"
     ]
    },
    {
     "name": "stderr",
     "output_type": "stream",
     "text": [
      "\r",
      " 23%|██▎       | 1112/4741 [00:08<00:26, 137.07it/s]"
     ]
    },
    {
     "name": "stderr",
     "output_type": "stream",
     "text": [
      "\r",
      " 24%|██▍       | 1126/4741 [00:08<00:26, 136.32it/s]"
     ]
    },
    {
     "name": "stderr",
     "output_type": "stream",
     "text": [
      "\r",
      " 24%|██▍       | 1140/4741 [00:08<00:26, 135.59it/s]"
     ]
    },
    {
     "name": "stderr",
     "output_type": "stream",
     "text": [
      "\r",
      " 24%|██▍       | 1154/4741 [00:08<00:26, 136.23it/s]"
     ]
    },
    {
     "name": "stderr",
     "output_type": "stream",
     "text": [
      "\r",
      " 25%|██▍       | 1168/4741 [00:08<00:26, 136.40it/s]"
     ]
    },
    {
     "name": "stderr",
     "output_type": "stream",
     "text": [
      "\r",
      " 25%|██▍       | 1182/4741 [00:08<00:26, 135.93it/s]"
     ]
    },
    {
     "name": "stderr",
     "output_type": "stream",
     "text": [
      "\r",
      " 25%|██▌       | 1196/4741 [00:08<00:26, 135.84it/s]"
     ]
    },
    {
     "name": "stderr",
     "output_type": "stream",
     "text": [
      "\r",
      " 26%|██▌       | 1210/4741 [00:08<00:26, 135.49it/s]"
     ]
    },
    {
     "name": "stderr",
     "output_type": "stream",
     "text": [
      "\r",
      " 26%|██▌       | 1224/4741 [00:09<00:26, 135.13it/s]"
     ]
    },
    {
     "name": "stderr",
     "output_type": "stream",
     "text": [
      "\r",
      " 26%|██▌       | 1238/4741 [00:09<00:28, 122.49it/s]"
     ]
    },
    {
     "name": "stderr",
     "output_type": "stream",
     "text": [
      "\r",
      " 26%|██▋       | 1252/4741 [00:09<00:27, 125.09it/s]"
     ]
    },
    {
     "name": "stderr",
     "output_type": "stream",
     "text": [
      "\r",
      " 27%|██▋       | 1265/4741 [00:09<00:29, 117.51it/s]"
     ]
    },
    {
     "name": "stderr",
     "output_type": "stream",
     "text": [
      "\r",
      " 27%|██▋       | 1277/4741 [00:09<00:29, 116.45it/s]"
     ]
    },
    {
     "name": "stderr",
     "output_type": "stream",
     "text": [
      "\r",
      " 27%|██▋       | 1290/4741 [00:09<00:29, 117.90it/s]"
     ]
    },
    {
     "name": "stderr",
     "output_type": "stream",
     "text": [
      "\r",
      " 27%|██▋       | 1302/4741 [00:09<00:32, 105.87it/s]"
     ]
    },
    {
     "name": "stderr",
     "output_type": "stream",
     "text": [
      "\r",
      " 28%|██▊       | 1313/4741 [00:09<00:34, 99.13it/s] "
     ]
    },
    {
     "name": "stderr",
     "output_type": "stream",
     "text": [
      "\r",
      " 28%|██▊       | 1326/4741 [00:10<00:32, 106.67it/s]"
     ]
    },
    {
     "name": "stderr",
     "output_type": "stream",
     "text": [
      "\r",
      " 28%|██▊       | 1338/4741 [00:10<00:31, 108.65it/s]"
     ]
    },
    {
     "name": "stderr",
     "output_type": "stream",
     "text": [
      "\r",
      " 28%|██▊       | 1350/4741 [00:10<00:31, 108.02it/s]"
     ]
    },
    {
     "name": "stderr",
     "output_type": "stream",
     "text": [
      "\r",
      " 29%|██▊       | 1363/4741 [00:10<00:29, 113.21it/s]"
     ]
    },
    {
     "name": "stderr",
     "output_type": "stream",
     "text": [
      "\r",
      " 29%|██▉       | 1375/4741 [00:10<00:29, 113.72it/s]"
     ]
    },
    {
     "name": "stderr",
     "output_type": "stream",
     "text": [
      "\r",
      " 29%|██▉       | 1389/4741 [00:10<00:27, 119.80it/s]"
     ]
    },
    {
     "name": "stderr",
     "output_type": "stream",
     "text": [
      "\r",
      " 30%|██▉       | 1403/4741 [00:10<00:26, 124.65it/s]"
     ]
    },
    {
     "name": "stderr",
     "output_type": "stream",
     "text": [
      "\r",
      " 30%|██▉       | 1417/4741 [00:10<00:26, 127.81it/s]"
     ]
    },
    {
     "name": "stderr",
     "output_type": "stream",
     "text": [
      "\r",
      " 30%|███       | 1431/4741 [00:10<00:25, 130.12it/s]"
     ]
    },
    {
     "name": "stderr",
     "output_type": "stream",
     "text": [
      "\r",
      " 30%|███       | 1445/4741 [00:10<00:25, 131.42it/s]"
     ]
    },
    {
     "name": "stderr",
     "output_type": "stream",
     "text": [
      "\r",
      " 31%|███       | 1459/4741 [00:11<00:24, 132.89it/s]"
     ]
    },
    {
     "name": "stderr",
     "output_type": "stream",
     "text": [
      "\r",
      " 31%|███       | 1473/4741 [00:11<00:24, 133.23it/s]"
     ]
    },
    {
     "name": "stderr",
     "output_type": "stream",
     "text": [
      "\r",
      " 31%|███▏      | 1487/4741 [00:11<00:24, 134.25it/s]"
     ]
    },
    {
     "name": "stderr",
     "output_type": "stream",
     "text": [
      "\r",
      " 32%|███▏      | 1501/4741 [00:11<00:24, 133.46it/s]"
     ]
    },
    {
     "name": "stderr",
     "output_type": "stream",
     "text": [
      "\r",
      " 32%|███▏      | 1515/4741 [00:11<00:24, 133.88it/s]"
     ]
    },
    {
     "name": "stderr",
     "output_type": "stream",
     "text": [
      "\r",
      " 32%|███▏      | 1529/4741 [00:11<00:23, 134.60it/s]"
     ]
    },
    {
     "name": "stderr",
     "output_type": "stream",
     "text": [
      "\r",
      " 33%|███▎      | 1543/4741 [00:11<00:23, 135.03it/s]"
     ]
    },
    {
     "name": "stderr",
     "output_type": "stream",
     "text": [
      "\r",
      " 33%|███▎      | 1557/4741 [00:11<00:23, 135.18it/s]"
     ]
    },
    {
     "name": "stderr",
     "output_type": "stream",
     "text": [
      "\r",
      " 33%|███▎      | 1571/4741 [00:11<00:23, 135.65it/s]"
     ]
    },
    {
     "name": "stderr",
     "output_type": "stream",
     "text": [
      "\r",
      " 33%|███▎      | 1585/4741 [00:12<00:23, 135.89it/s]"
     ]
    },
    {
     "name": "stderr",
     "output_type": "stream",
     "text": [
      "\r",
      " 34%|███▎      | 1599/4741 [00:12<00:22, 136.89it/s]"
     ]
    },
    {
     "name": "stderr",
     "output_type": "stream",
     "text": [
      "\r",
      " 34%|███▍      | 1613/4741 [00:12<00:22, 137.26it/s]"
     ]
    },
    {
     "name": "stderr",
     "output_type": "stream",
     "text": [
      "\r",
      " 34%|███▍      | 1627/4741 [00:12<00:22, 136.27it/s]"
     ]
    },
    {
     "name": "stderr",
     "output_type": "stream",
     "text": [
      "\r",
      " 35%|███▍      | 1641/4741 [00:12<00:22, 136.50it/s]"
     ]
    },
    {
     "name": "stderr",
     "output_type": "stream",
     "text": [
      "\r",
      " 35%|███▍      | 1655/4741 [00:12<00:22, 136.19it/s]"
     ]
    },
    {
     "name": "stderr",
     "output_type": "stream",
     "text": [
      "\r",
      " 35%|███▌      | 1669/4741 [00:12<00:22, 137.04it/s]"
     ]
    },
    {
     "name": "stderr",
     "output_type": "stream",
     "text": [
      "\r",
      " 35%|███▌      | 1683/4741 [00:12<00:22, 136.48it/s]"
     ]
    },
    {
     "name": "stderr",
     "output_type": "stream",
     "text": [
      "\r",
      " 36%|███▌      | 1697/4741 [00:12<00:22, 136.49it/s]"
     ]
    },
    {
     "name": "stderr",
     "output_type": "stream",
     "text": [
      "\r",
      " 36%|███▌      | 1711/4741 [00:12<00:22, 136.76it/s]"
     ]
    },
    {
     "name": "stderr",
     "output_type": "stream",
     "text": [
      "\r",
      " 36%|███▋      | 1725/4741 [00:13<00:22, 137.02it/s]"
     ]
    },
    {
     "name": "stderr",
     "output_type": "stream",
     "text": [
      "\r",
      " 37%|███▋      | 1739/4741 [00:13<00:21, 137.74it/s]"
     ]
    },
    {
     "name": "stderr",
     "output_type": "stream",
     "text": [
      "\r",
      " 37%|███▋      | 1753/4741 [00:13<00:21, 137.64it/s]"
     ]
    },
    {
     "name": "stderr",
     "output_type": "stream",
     "text": [
      "\r",
      " 37%|███▋      | 1767/4741 [00:13<00:21, 135.58it/s]"
     ]
    },
    {
     "name": "stderr",
     "output_type": "stream",
     "text": [
      "\r",
      " 38%|███▊      | 1781/4741 [00:13<00:21, 136.18it/s]"
     ]
    },
    {
     "name": "stderr",
     "output_type": "stream",
     "text": [
      "\r",
      " 38%|███▊      | 1795/4741 [00:13<00:21, 137.16it/s]"
     ]
    },
    {
     "name": "stderr",
     "output_type": "stream",
     "text": [
      "\r",
      " 38%|███▊      | 1809/4741 [00:13<00:21, 137.55it/s]"
     ]
    },
    {
     "name": "stderr",
     "output_type": "stream",
     "text": [
      "\r",
      " 38%|███▊      | 1823/4741 [00:13<00:21, 137.49it/s]"
     ]
    },
    {
     "name": "stderr",
     "output_type": "stream",
     "text": [
      "\r",
      " 39%|███▊      | 1837/4741 [00:13<00:21, 137.47it/s]"
     ]
    },
    {
     "name": "stderr",
     "output_type": "stream",
     "text": [
      "\r",
      " 39%|███▉      | 1851/4741 [00:13<00:21, 137.03it/s]"
     ]
    },
    {
     "name": "stderr",
     "output_type": "stream",
     "text": [
      "\r",
      " 39%|███▉      | 1865/4741 [00:14<00:20, 137.34it/s]"
     ]
    },
    {
     "name": "stderr",
     "output_type": "stream",
     "text": [
      "\r",
      " 40%|███▉      | 1879/4741 [00:14<00:20, 137.60it/s]"
     ]
    },
    {
     "name": "stderr",
     "output_type": "stream",
     "text": [
      "\r",
      " 40%|███▉      | 1893/4741 [00:14<00:20, 138.28it/s]"
     ]
    },
    {
     "name": "stderr",
     "output_type": "stream",
     "text": [
      "\r",
      " 40%|████      | 1907/4741 [00:14<00:20, 136.24it/s]"
     ]
    },
    {
     "name": "stderr",
     "output_type": "stream",
     "text": [
      "\r",
      " 41%|████      | 1921/4741 [00:14<00:20, 136.52it/s]"
     ]
    },
    {
     "name": "stderr",
     "output_type": "stream",
     "text": [
      "\r",
      " 41%|████      | 1935/4741 [00:14<00:20, 136.06it/s]"
     ]
    },
    {
     "name": "stderr",
     "output_type": "stream",
     "text": [
      "\r",
      " 41%|████      | 1949/4741 [00:14<00:20, 136.59it/s]"
     ]
    },
    {
     "name": "stderr",
     "output_type": "stream",
     "text": [
      "\r",
      " 41%|████▏     | 1963/4741 [00:14<00:20, 136.55it/s]"
     ]
    },
    {
     "name": "stderr",
     "output_type": "stream",
     "text": [
      "\r",
      " 42%|████▏     | 1977/4741 [00:14<00:20, 136.37it/s]"
     ]
    },
    {
     "name": "stderr",
     "output_type": "stream",
     "text": [
      "\r",
      " 42%|████▏     | 1991/4741 [00:14<00:20, 136.35it/s]"
     ]
    },
    {
     "name": "stderr",
     "output_type": "stream",
     "text": [
      "\r",
      " 42%|████▏     | 2005/4741 [00:15<00:20, 136.65it/s]"
     ]
    },
    {
     "name": "stderr",
     "output_type": "stream",
     "text": [
      "\r",
      " 43%|████▎     | 2019/4741 [00:15<00:19, 137.05it/s]"
     ]
    },
    {
     "name": "stderr",
     "output_type": "stream",
     "text": [
      "\r",
      " 43%|████▎     | 2033/4741 [00:15<00:19, 137.09it/s]"
     ]
    },
    {
     "name": "stderr",
     "output_type": "stream",
     "text": [
      "\r",
      " 43%|████▎     | 2047/4741 [00:15<00:20, 131.07it/s]"
     ]
    },
    {
     "name": "stderr",
     "output_type": "stream",
     "text": [
      "\r",
      " 43%|████▎     | 2061/4741 [00:15<00:20, 132.93it/s]"
     ]
    },
    {
     "name": "stderr",
     "output_type": "stream",
     "text": [
      "\r",
      " 44%|████▍     | 2075/4741 [00:15<00:20, 132.53it/s]"
     ]
    },
    {
     "name": "stderr",
     "output_type": "stream",
     "text": [
      "\r",
      " 44%|████▍     | 2089/4741 [00:15<00:19, 133.88it/s]"
     ]
    },
    {
     "name": "stderr",
     "output_type": "stream",
     "text": [
      "\r",
      " 44%|████▍     | 2103/4741 [00:15<00:19, 135.12it/s]"
     ]
    },
    {
     "name": "stderr",
     "output_type": "stream",
     "text": [
      "\r",
      " 45%|████▍     | 2117/4741 [00:15<00:19, 136.17it/s]"
     ]
    },
    {
     "name": "stderr",
     "output_type": "stream",
     "text": [
      "\r",
      " 45%|████▍     | 2131/4741 [00:16<00:19, 136.85it/s]"
     ]
    },
    {
     "name": "stderr",
     "output_type": "stream",
     "text": [
      "\r",
      " 45%|████▌     | 2146/4741 [00:16<00:18, 138.04it/s]"
     ]
    },
    {
     "name": "stderr",
     "output_type": "stream",
     "text": [
      "\r",
      " 46%|████▌     | 2160/4741 [00:16<00:18, 138.51it/s]"
     ]
    },
    {
     "name": "stderr",
     "output_type": "stream",
     "text": [
      "\r",
      " 46%|████▌     | 2174/4741 [00:16<00:18, 137.62it/s]"
     ]
    },
    {
     "name": "stderr",
     "output_type": "stream",
     "text": [
      "\r",
      " 46%|████▌     | 2188/4741 [00:16<00:20, 127.51it/s]"
     ]
    },
    {
     "name": "stderr",
     "output_type": "stream",
     "text": [
      "\r",
      " 46%|████▋     | 2202/4741 [00:16<00:19, 130.97it/s]"
     ]
    },
    {
     "name": "stderr",
     "output_type": "stream",
     "text": [
      "\r",
      " 47%|████▋     | 2217/4741 [00:16<00:18, 133.70it/s]"
     ]
    },
    {
     "name": "stderr",
     "output_type": "stream",
     "text": [
      "\r",
      " 47%|████▋     | 2231/4741 [00:16<00:18, 135.37it/s]"
     ]
    },
    {
     "name": "stderr",
     "output_type": "stream",
     "text": [
      "\r",
      " 47%|████▋     | 2245/4741 [00:16<00:18, 135.13it/s]"
     ]
    },
    {
     "name": "stderr",
     "output_type": "stream",
     "text": [
      "\r",
      " 48%|████▊     | 2259/4741 [00:16<00:18, 135.48it/s]"
     ]
    },
    {
     "name": "stderr",
     "output_type": "stream",
     "text": [
      "\r",
      " 48%|████▊     | 2273/4741 [00:17<00:18, 136.37it/s]"
     ]
    },
    {
     "name": "stderr",
     "output_type": "stream",
     "text": [
      "\r",
      " 48%|████▊     | 2287/4741 [00:17<00:17, 136.91it/s]"
     ]
    },
    {
     "name": "stderr",
     "output_type": "stream",
     "text": [
      "\r",
      " 49%|████▊     | 2301/4741 [00:17<00:17, 137.71it/s]"
     ]
    },
    {
     "name": "stderr",
     "output_type": "stream",
     "text": [
      "\r",
      " 49%|████▉     | 2315/4741 [00:17<00:19, 127.48it/s]"
     ]
    },
    {
     "name": "stderr",
     "output_type": "stream",
     "text": [
      "\r",
      " 49%|████▉     | 2329/4741 [00:17<00:18, 127.52it/s]"
     ]
    },
    {
     "name": "stderr",
     "output_type": "stream",
     "text": [
      "\r",
      " 49%|████▉     | 2343/4741 [00:17<00:18, 129.94it/s]"
     ]
    },
    {
     "name": "stderr",
     "output_type": "stream",
     "text": [
      "\r",
      " 50%|████▉     | 2357/4741 [00:17<00:18, 131.73it/s]"
     ]
    },
    {
     "name": "stderr",
     "output_type": "stream",
     "text": [
      "\r",
      " 50%|█████     | 2371/4741 [00:17<00:17, 131.93it/s]"
     ]
    },
    {
     "name": "stderr",
     "output_type": "stream",
     "text": [
      "\r",
      " 50%|█████     | 2385/4741 [00:17<00:17, 133.10it/s]"
     ]
    },
    {
     "name": "stderr",
     "output_type": "stream",
     "text": [
      "\r",
      " 51%|█████     | 2399/4741 [00:18<00:19, 118.93it/s]"
     ]
    },
    {
     "name": "stderr",
     "output_type": "stream",
     "text": [
      "\r",
      " 51%|█████     | 2413/4741 [00:18<00:18, 123.61it/s]"
     ]
    },
    {
     "name": "stderr",
     "output_type": "stream",
     "text": [
      "\r",
      " 51%|█████     | 2427/4741 [00:18<00:18, 126.84it/s]"
     ]
    },
    {
     "name": "stderr",
     "output_type": "stream",
     "text": [
      "\r",
      " 51%|█████▏    | 2440/4741 [00:18<00:18, 124.39it/s]"
     ]
    },
    {
     "name": "stderr",
     "output_type": "stream",
     "text": [
      "\r",
      " 52%|█████▏    | 2453/4741 [00:18<00:20, 111.79it/s]"
     ]
    },
    {
     "name": "stderr",
     "output_type": "stream",
     "text": [
      "\r",
      " 52%|█████▏    | 2465/4741 [00:18<00:20, 111.43it/s]"
     ]
    },
    {
     "name": "stderr",
     "output_type": "stream",
     "text": [
      "\r",
      " 52%|█████▏    | 2477/4741 [00:18<00:21, 105.22it/s]"
     ]
    },
    {
     "name": "stderr",
     "output_type": "stream",
     "text": [
      "\r",
      " 52%|█████▏    | 2488/4741 [00:18<00:24, 91.68it/s] "
     ]
    },
    {
     "name": "stderr",
     "output_type": "stream",
     "text": [
      "\r",
      " 53%|█████▎    | 2498/4741 [00:19<00:24, 90.27it/s]"
     ]
    },
    {
     "name": "stderr",
     "output_type": "stream",
     "text": [
      "\r",
      " 53%|█████▎    | 2511/4741 [00:19<00:22, 99.09it/s]"
     ]
    },
    {
     "name": "stderr",
     "output_type": "stream",
     "text": [
      "\r",
      " 53%|█████▎    | 2524/4741 [00:19<00:21, 104.45it/s]"
     ]
    },
    {
     "name": "stderr",
     "output_type": "stream",
     "text": [
      "\r",
      " 53%|█████▎    | 2535/4741 [00:19<00:22, 98.32it/s] "
     ]
    },
    {
     "name": "stderr",
     "output_type": "stream",
     "text": [
      "\r",
      " 54%|█████▎    | 2547/4741 [00:19<00:21, 103.67it/s]"
     ]
    },
    {
     "name": "stderr",
     "output_type": "stream",
     "text": [
      "\r",
      " 54%|█████▍    | 2561/4741 [00:19<00:19, 111.43it/s]"
     ]
    },
    {
     "name": "stderr",
     "output_type": "stream",
     "text": [
      "\r",
      " 54%|█████▍    | 2575/4741 [00:19<00:18, 117.88it/s]"
     ]
    },
    {
     "name": "stderr",
     "output_type": "stream",
     "text": [
      "\r",
      " 55%|█████▍    | 2589/4741 [00:19<00:17, 122.83it/s]"
     ]
    },
    {
     "name": "stderr",
     "output_type": "stream",
     "text": [
      "\r",
      " 55%|█████▍    | 2603/4741 [00:19<00:16, 126.15it/s]"
     ]
    },
    {
     "name": "stderr",
     "output_type": "stream",
     "text": [
      "\r",
      " 55%|█████▌    | 2617/4741 [00:20<00:16, 128.99it/s]"
     ]
    },
    {
     "name": "stderr",
     "output_type": "stream",
     "text": [
      "\r",
      " 55%|█████▌    | 2631/4741 [00:20<00:16, 130.83it/s]"
     ]
    },
    {
     "name": "stderr",
     "output_type": "stream",
     "text": [
      "\r",
      " 56%|█████▌    | 2645/4741 [00:20<00:15, 131.92it/s]"
     ]
    },
    {
     "name": "stderr",
     "output_type": "stream",
     "text": [
      "\r",
      " 56%|█████▌    | 2659/4741 [00:20<00:15, 132.87it/s]"
     ]
    },
    {
     "name": "stderr",
     "output_type": "stream",
     "text": [
      "\r",
      " 56%|█████▋    | 2673/4741 [00:20<00:15, 133.72it/s]"
     ]
    },
    {
     "name": "stderr",
     "output_type": "stream",
     "text": [
      "\r",
      " 57%|█████▋    | 2687/4741 [00:20<00:15, 133.61it/s]"
     ]
    },
    {
     "name": "stderr",
     "output_type": "stream",
     "text": [
      "\r",
      " 57%|█████▋    | 2701/4741 [00:20<00:15, 132.66it/s]"
     ]
    },
    {
     "name": "stderr",
     "output_type": "stream",
     "text": [
      "\r",
      " 57%|█████▋    | 2715/4741 [00:20<00:15, 129.12it/s]"
     ]
    },
    {
     "name": "stderr",
     "output_type": "stream",
     "text": [
      "\r",
      " 58%|█████▊    | 2729/4741 [00:20<00:15, 130.33it/s]"
     ]
    },
    {
     "name": "stderr",
     "output_type": "stream",
     "text": [
      "\r",
      " 58%|█████▊    | 2743/4741 [00:20<00:15, 131.29it/s]"
     ]
    },
    {
     "name": "stderr",
     "output_type": "stream",
     "text": [
      "\r",
      " 58%|█████▊    | 2757/4741 [00:21<00:14, 132.65it/s]"
     ]
    },
    {
     "name": "stderr",
     "output_type": "stream",
     "text": [
      "\r",
      " 58%|█████▊    | 2771/4741 [00:21<00:14, 133.78it/s]"
     ]
    },
    {
     "name": "stderr",
     "output_type": "stream",
     "text": [
      "\r",
      " 59%|█████▊    | 2785/4741 [00:21<00:14, 134.45it/s]"
     ]
    },
    {
     "name": "stderr",
     "output_type": "stream",
     "text": [
      "\r",
      " 59%|█████▉    | 2799/4741 [00:21<00:14, 133.33it/s]"
     ]
    },
    {
     "name": "stderr",
     "output_type": "stream",
     "text": [
      "\r",
      " 59%|█████▉    | 2813/4741 [00:21<00:14, 133.91it/s]"
     ]
    },
    {
     "name": "stderr",
     "output_type": "stream",
     "text": [
      "\r",
      " 60%|█████▉    | 2827/4741 [00:21<00:14, 134.43it/s]"
     ]
    },
    {
     "name": "stderr",
     "output_type": "stream",
     "text": [
      "\r",
      " 60%|█████▉    | 2841/4741 [00:21<00:14, 134.94it/s]"
     ]
    },
    {
     "name": "stderr",
     "output_type": "stream",
     "text": [
      "\r",
      " 60%|██████    | 2855/4741 [00:21<00:13, 135.36it/s]"
     ]
    },
    {
     "name": "stderr",
     "output_type": "stream",
     "text": [
      "\r",
      " 61%|██████    | 2869/4741 [00:21<00:13, 134.83it/s]"
     ]
    },
    {
     "name": "stderr",
     "output_type": "stream",
     "text": [
      "\r",
      " 61%|██████    | 2883/4741 [00:21<00:13, 134.92it/s]"
     ]
    },
    {
     "name": "stderr",
     "output_type": "stream",
     "text": [
      "\r",
      " 61%|██████    | 2897/4741 [00:22<00:13, 135.57it/s]"
     ]
    },
    {
     "name": "stderr",
     "output_type": "stream",
     "text": [
      "\r",
      " 61%|██████▏   | 2911/4741 [00:22<00:13, 135.95it/s]"
     ]
    },
    {
     "name": "stderr",
     "output_type": "stream",
     "text": [
      "\r",
      " 62%|██████▏   | 2925/4741 [00:22<00:13, 136.25it/s]"
     ]
    },
    {
     "name": "stderr",
     "output_type": "stream",
     "text": [
      "\r",
      " 62%|██████▏   | 2939/4741 [00:22<00:13, 128.89it/s]"
     ]
    },
    {
     "name": "stderr",
     "output_type": "stream",
     "text": [
      "\r",
      " 62%|██████▏   | 2953/4741 [00:22<00:13, 130.11it/s]"
     ]
    },
    {
     "name": "stderr",
     "output_type": "stream",
     "text": [
      "\r",
      " 63%|██████▎   | 2967/4741 [00:22<00:13, 130.25it/s]"
     ]
    },
    {
     "name": "stderr",
     "output_type": "stream",
     "text": [
      "\r",
      " 63%|██████▎   | 2981/4741 [00:22<00:13, 130.94it/s]"
     ]
    },
    {
     "name": "stderr",
     "output_type": "stream",
     "text": [
      "\r",
      " 63%|██████▎   | 2995/4741 [00:22<00:13, 132.67it/s]"
     ]
    },
    {
     "name": "stderr",
     "output_type": "stream",
     "text": [
      "\r",
      " 63%|██████▎   | 3009/4741 [00:22<00:12, 133.58it/s]"
     ]
    },
    {
     "name": "stderr",
     "output_type": "stream",
     "text": [
      "\r",
      " 64%|██████▍   | 3023/4741 [00:23<00:12, 134.43it/s]"
     ]
    },
    {
     "name": "stderr",
     "output_type": "stream",
     "text": [
      "\r",
      " 64%|██████▍   | 3037/4741 [00:23<00:12, 135.52it/s]"
     ]
    },
    {
     "name": "stderr",
     "output_type": "stream",
     "text": [
      "\r",
      " 64%|██████▍   | 3051/4741 [00:23<00:12, 136.13it/s]"
     ]
    },
    {
     "name": "stderr",
     "output_type": "stream",
     "text": [
      "\r",
      " 65%|██████▍   | 3065/4741 [00:23<00:12, 135.78it/s]"
     ]
    },
    {
     "name": "stderr",
     "output_type": "stream",
     "text": [
      "\r",
      " 65%|██████▍   | 3079/4741 [00:23<00:12, 136.01it/s]"
     ]
    },
    {
     "name": "stderr",
     "output_type": "stream",
     "text": [
      "\r",
      " 65%|██████▌   | 3093/4741 [00:23<00:12, 135.31it/s]"
     ]
    },
    {
     "name": "stderr",
     "output_type": "stream",
     "text": [
      "\r",
      " 66%|██████▌   | 3107/4741 [00:23<00:12, 135.93it/s]"
     ]
    },
    {
     "name": "stderr",
     "output_type": "stream",
     "text": [
      "\r",
      " 66%|██████▌   | 3121/4741 [00:23<00:11, 136.46it/s]"
     ]
    },
    {
     "name": "stderr",
     "output_type": "stream",
     "text": [
      "\r",
      " 66%|██████▌   | 3135/4741 [00:23<00:11, 135.82it/s]"
     ]
    },
    {
     "name": "stderr",
     "output_type": "stream",
     "text": [
      "\r",
      " 66%|██████▋   | 3149/4741 [00:23<00:11, 136.24it/s]"
     ]
    },
    {
     "name": "stderr",
     "output_type": "stream",
     "text": [
      "\r",
      " 67%|██████▋   | 3163/4741 [00:24<00:11, 136.50it/s]"
     ]
    },
    {
     "name": "stderr",
     "output_type": "stream",
     "text": [
      "\r",
      " 67%|██████▋   | 3177/4741 [00:24<00:11, 137.19it/s]"
     ]
    },
    {
     "name": "stderr",
     "output_type": "stream",
     "text": [
      "\r",
      " 67%|██████▋   | 3191/4741 [00:24<00:11, 137.00it/s]"
     ]
    },
    {
     "name": "stderr",
     "output_type": "stream",
     "text": [
      "\r",
      " 68%|██████▊   | 3205/4741 [00:24<00:11, 130.00it/s]"
     ]
    },
    {
     "name": "stderr",
     "output_type": "stream",
     "text": [
      "\r",
      " 68%|██████▊   | 3219/4741 [00:24<00:11, 130.74it/s]"
     ]
    },
    {
     "name": "stderr",
     "output_type": "stream",
     "text": [
      "\r",
      " 68%|██████▊   | 3233/4741 [00:24<00:11, 130.98it/s]"
     ]
    },
    {
     "name": "stderr",
     "output_type": "stream",
     "text": [
      "\r",
      " 68%|██████▊   | 3247/4741 [00:24<00:11, 132.98it/s]"
     ]
    },
    {
     "name": "stderr",
     "output_type": "stream",
     "text": [
      "\r",
      " 69%|██████▉   | 3261/4741 [00:24<00:10, 134.83it/s]"
     ]
    },
    {
     "name": "stderr",
     "output_type": "stream",
     "text": [
      "\r",
      " 69%|██████▉   | 3275/4741 [00:24<00:10, 135.26it/s]"
     ]
    },
    {
     "name": "stderr",
     "output_type": "stream",
     "text": [
      "\r",
      " 69%|██████▉   | 3289/4741 [00:25<00:10, 135.12it/s]"
     ]
    },
    {
     "name": "stderr",
     "output_type": "stream",
     "text": [
      "\r",
      " 70%|██████▉   | 3303/4741 [00:25<00:10, 135.71it/s]"
     ]
    },
    {
     "name": "stderr",
     "output_type": "stream",
     "text": [
      "\r",
      " 70%|██████▉   | 3317/4741 [00:25<00:10, 135.22it/s]"
     ]
    },
    {
     "name": "stderr",
     "output_type": "stream",
     "text": [
      "\r",
      " 70%|███████   | 3331/4741 [00:25<00:10, 134.87it/s]"
     ]
    },
    {
     "name": "stderr",
     "output_type": "stream",
     "text": [
      "\r",
      " 71%|███████   | 3345/4741 [00:25<00:10, 135.44it/s]"
     ]
    },
    {
     "name": "stderr",
     "output_type": "stream",
     "text": [
      "\r",
      " 71%|███████   | 3359/4741 [00:25<00:10, 135.17it/s]"
     ]
    },
    {
     "name": "stderr",
     "output_type": "stream",
     "text": [
      "\r",
      " 71%|███████   | 3373/4741 [00:25<00:10, 127.39it/s]"
     ]
    },
    {
     "name": "stderr",
     "output_type": "stream",
     "text": [
      "\r",
      " 71%|███████▏  | 3387/4741 [00:25<00:10, 129.70it/s]"
     ]
    },
    {
     "name": "stderr",
     "output_type": "stream",
     "text": [
      "\r",
      " 72%|███████▏  | 3401/4741 [00:25<00:10, 131.72it/s]"
     ]
    },
    {
     "name": "stderr",
     "output_type": "stream",
     "text": [
      "\r",
      " 72%|███████▏  | 3415/4741 [00:25<00:10, 132.58it/s]"
     ]
    },
    {
     "name": "stderr",
     "output_type": "stream",
     "text": [
      "\r",
      " 72%|███████▏  | 3429/4741 [00:26<00:09, 133.36it/s]"
     ]
    },
    {
     "name": "stderr",
     "output_type": "stream",
     "text": [
      "\r",
      " 73%|███████▎  | 3443/4741 [00:26<00:09, 134.27it/s]"
     ]
    },
    {
     "name": "stderr",
     "output_type": "stream",
     "text": [
      "\r",
      " 73%|███████▎  | 3457/4741 [00:26<00:10, 128.14it/s]"
     ]
    },
    {
     "name": "stderr",
     "output_type": "stream",
     "text": [
      "\r",
      " 73%|███████▎  | 3471/4741 [00:26<00:09, 129.47it/s]"
     ]
    },
    {
     "name": "stderr",
     "output_type": "stream",
     "text": [
      "\r",
      " 74%|███████▎  | 3485/4741 [00:26<00:09, 131.57it/s]"
     ]
    },
    {
     "name": "stderr",
     "output_type": "stream",
     "text": [
      "\r",
      " 74%|███████▍  | 3499/4741 [00:26<00:09, 128.83it/s]"
     ]
    },
    {
     "name": "stderr",
     "output_type": "stream",
     "text": [
      "\r",
      " 74%|███████▍  | 3513/4741 [00:26<00:09, 130.98it/s]"
     ]
    },
    {
     "name": "stderr",
     "output_type": "stream",
     "text": [
      "\r",
      " 74%|███████▍  | 3527/4741 [00:26<00:09, 132.49it/s]"
     ]
    },
    {
     "name": "stderr",
     "output_type": "stream",
     "text": [
      "\r",
      " 75%|███████▍  | 3541/4741 [00:26<00:09, 133.17it/s]"
     ]
    },
    {
     "name": "stderr",
     "output_type": "stream",
     "text": [
      "\r",
      " 75%|███████▍  | 3555/4741 [00:27<00:08, 133.87it/s]"
     ]
    },
    {
     "name": "stderr",
     "output_type": "stream",
     "text": [
      "\r",
      " 75%|███████▌  | 3569/4741 [00:27<00:10, 115.94it/s]"
     ]
    },
    {
     "name": "stderr",
     "output_type": "stream",
     "text": [
      "\r",
      " 76%|███████▌  | 3583/4741 [00:27<00:09, 121.72it/s]"
     ]
    },
    {
     "name": "stderr",
     "output_type": "stream",
     "text": [
      "\r",
      " 76%|███████▌  | 3597/4741 [00:27<00:09, 125.25it/s]"
     ]
    },
    {
     "name": "stderr",
     "output_type": "stream",
     "text": [
      "\r",
      " 76%|███████▌  | 3611/4741 [00:27<00:08, 128.38it/s]"
     ]
    },
    {
     "name": "stderr",
     "output_type": "stream",
     "text": [
      "\r",
      " 76%|███████▋  | 3625/4741 [00:27<00:08, 126.81it/s]"
     ]
    },
    {
     "name": "stderr",
     "output_type": "stream",
     "text": [
      "\r",
      " 77%|███████▋  | 3639/4741 [00:27<00:08, 129.45it/s]"
     ]
    },
    {
     "name": "stderr",
     "output_type": "stream",
     "text": [
      "\r",
      " 77%|███████▋  | 3653/4741 [00:27<00:09, 114.98it/s]"
     ]
    },
    {
     "name": "stderr",
     "output_type": "stream",
     "text": [
      "\r",
      " 77%|███████▋  | 3667/4741 [00:27<00:08, 120.02it/s]"
     ]
    },
    {
     "name": "stderr",
     "output_type": "stream",
     "text": [
      "\r",
      " 78%|███████▊  | 3681/4741 [00:28<00:08, 123.86it/s]"
     ]
    },
    {
     "name": "stderr",
     "output_type": "stream",
     "text": [
      "\r",
      " 78%|███████▊  | 3695/4741 [00:28<00:08, 127.46it/s]"
     ]
    },
    {
     "name": "stderr",
     "output_type": "stream",
     "text": [
      "\r",
      " 78%|███████▊  | 3709/4741 [00:28<00:07, 130.42it/s]"
     ]
    },
    {
     "name": "stderr",
     "output_type": "stream",
     "text": [
      "\r",
      " 79%|███████▊  | 3723/4741 [00:28<00:07, 131.64it/s]"
     ]
    },
    {
     "name": "stderr",
     "output_type": "stream",
     "text": [
      "\r",
      " 79%|███████▉  | 3737/4741 [00:28<00:07, 133.06it/s]"
     ]
    },
    {
     "name": "stderr",
     "output_type": "stream",
     "text": [
      "\r",
      " 79%|███████▉  | 3751/4741 [00:28<00:07, 134.18it/s]"
     ]
    },
    {
     "name": "stderr",
     "output_type": "stream",
     "text": [
      "\r",
      " 79%|███████▉  | 3765/4741 [00:28<00:07, 134.95it/s]"
     ]
    },
    {
     "name": "stderr",
     "output_type": "stream",
     "text": [
      "\r",
      " 80%|███████▉  | 3779/4741 [00:28<00:07, 135.77it/s]"
     ]
    },
    {
     "name": "stderr",
     "output_type": "stream",
     "text": [
      "\r",
      " 80%|████████  | 3793/4741 [00:28<00:06, 135.95it/s]"
     ]
    },
    {
     "name": "stderr",
     "output_type": "stream",
     "text": [
      "\r",
      " 80%|████████  | 3807/4741 [00:29<00:06, 135.73it/s]"
     ]
    },
    {
     "name": "stderr",
     "output_type": "stream",
     "text": [
      "\r",
      " 81%|████████  | 3821/4741 [00:29<00:06, 135.90it/s]"
     ]
    },
    {
     "name": "stderr",
     "output_type": "stream",
     "text": [
      "\r",
      " 81%|████████  | 3835/4741 [00:29<00:06, 135.83it/s]"
     ]
    },
    {
     "name": "stderr",
     "output_type": "stream",
     "text": [
      "\r",
      " 81%|████████  | 3849/4741 [00:29<00:06, 136.33it/s]"
     ]
    },
    {
     "name": "stderr",
     "output_type": "stream",
     "text": [
      "\r",
      " 81%|████████▏ | 3863/4741 [00:29<00:06, 135.57it/s]"
     ]
    },
    {
     "name": "stderr",
     "output_type": "stream",
     "text": [
      "\r",
      " 82%|████████▏ | 3877/4741 [00:29<00:06, 135.97it/s]"
     ]
    },
    {
     "name": "stderr",
     "output_type": "stream",
     "text": [
      "\r",
      " 82%|████████▏ | 3891/4741 [00:29<00:06, 132.42it/s]"
     ]
    },
    {
     "name": "stderr",
     "output_type": "stream",
     "text": [
      "\r",
      " 82%|████████▏ | 3905/4741 [00:29<00:06, 134.07it/s]"
     ]
    },
    {
     "name": "stderr",
     "output_type": "stream",
     "text": [
      "\r",
      " 83%|████████▎ | 3919/4741 [00:29<00:06, 133.51it/s]"
     ]
    },
    {
     "name": "stderr",
     "output_type": "stream",
     "text": [
      "\r",
      " 83%|████████▎ | 3933/4741 [00:29<00:05, 134.98it/s]"
     ]
    },
    {
     "name": "stderr",
     "output_type": "stream",
     "text": [
      "\r",
      " 83%|████████▎ | 3947/4741 [00:30<00:05, 136.07it/s]"
     ]
    },
    {
     "name": "stderr",
     "output_type": "stream",
     "text": [
      "\r",
      " 84%|████████▎ | 3962/4741 [00:30<00:05, 137.37it/s]"
     ]
    },
    {
     "name": "stderr",
     "output_type": "stream",
     "text": [
      "\r",
      " 84%|████████▍ | 3976/4741 [00:30<00:05, 130.02it/s]"
     ]
    },
    {
     "name": "stderr",
     "output_type": "stream",
     "text": [
      "\r",
      " 84%|████████▍ | 3990/4741 [00:30<00:05, 129.91it/s]"
     ]
    },
    {
     "name": "stderr",
     "output_type": "stream",
     "text": [
      "\r",
      " 84%|████████▍ | 4004/4741 [00:30<00:05, 131.87it/s]"
     ]
    },
    {
     "name": "stderr",
     "output_type": "stream",
     "text": [
      "\r",
      " 85%|████████▍ | 4018/4741 [00:30<00:05, 133.55it/s]"
     ]
    },
    {
     "name": "stderr",
     "output_type": "stream",
     "text": [
      "\r",
      " 85%|████████▌ | 4032/4741 [00:30<00:05, 133.11it/s]"
     ]
    },
    {
     "name": "stderr",
     "output_type": "stream",
     "text": [
      "\r",
      " 85%|████████▌ | 4046/4741 [00:30<00:05, 134.57it/s]"
     ]
    },
    {
     "name": "stderr",
     "output_type": "stream",
     "text": [
      "\r",
      " 86%|████████▌ | 4060/4741 [00:30<00:05, 133.88it/s]"
     ]
    },
    {
     "name": "stderr",
     "output_type": "stream",
     "text": [
      "\r",
      " 86%|████████▌ | 4074/4741 [00:30<00:04, 134.31it/s]"
     ]
    },
    {
     "name": "stderr",
     "output_type": "stream",
     "text": [
      "\r",
      " 86%|████████▌ | 4088/4741 [00:31<00:04, 135.45it/s]"
     ]
    },
    {
     "name": "stderr",
     "output_type": "stream",
     "text": [
      "\r",
      " 87%|████████▋ | 4102/4741 [00:31<00:04, 136.62it/s]"
     ]
    },
    {
     "name": "stderr",
     "output_type": "stream",
     "text": [
      "\r",
      " 87%|████████▋ | 4116/4741 [00:31<00:04, 137.00it/s]"
     ]
    },
    {
     "name": "stderr",
     "output_type": "stream",
     "text": [
      "\r",
      " 87%|████████▋ | 4130/4741 [00:31<00:04, 136.01it/s]"
     ]
    },
    {
     "name": "stderr",
     "output_type": "stream",
     "text": [
      "\r",
      " 87%|████████▋ | 4144/4741 [00:31<00:04, 136.45it/s]"
     ]
    },
    {
     "name": "stderr",
     "output_type": "stream",
     "text": [
      "\r",
      " 88%|████████▊ | 4158/4741 [00:31<00:04, 136.29it/s]"
     ]
    },
    {
     "name": "stderr",
     "output_type": "stream",
     "text": [
      "\r",
      " 88%|████████▊ | 4172/4741 [00:31<00:04, 136.37it/s]"
     ]
    },
    {
     "name": "stderr",
     "output_type": "stream",
     "text": [
      "\r",
      " 88%|████████▊ | 4186/4741 [00:31<00:04, 136.34it/s]"
     ]
    },
    {
     "name": "stderr",
     "output_type": "stream",
     "text": [
      "\r",
      " 89%|████████▊ | 4200/4741 [00:31<00:04, 132.63it/s]"
     ]
    },
    {
     "name": "stderr",
     "output_type": "stream",
     "text": [
      "\r",
      " 89%|████████▉ | 4214/4741 [00:32<00:03, 133.28it/s]"
     ]
    },
    {
     "name": "stderr",
     "output_type": "stream",
     "text": [
      "\r",
      " 89%|████████▉ | 4228/4741 [00:32<00:03, 134.19it/s]"
     ]
    },
    {
     "name": "stderr",
     "output_type": "stream",
     "text": [
      "\r",
      " 89%|████████▉ | 4242/4741 [00:32<00:03, 132.57it/s]"
     ]
    },
    {
     "name": "stderr",
     "output_type": "stream",
     "text": [
      "\r",
      " 90%|████████▉ | 4256/4741 [00:32<00:03, 129.64it/s]"
     ]
    },
    {
     "name": "stderr",
     "output_type": "stream",
     "text": [
      "\r",
      " 90%|█████████ | 4270/4741 [00:32<00:03, 131.79it/s]"
     ]
    },
    {
     "name": "stderr",
     "output_type": "stream",
     "text": [
      "\r",
      " 90%|█████████ | 4284/4741 [00:32<00:03, 133.99it/s]"
     ]
    },
    {
     "name": "stderr",
     "output_type": "stream",
     "text": [
      "\r",
      " 91%|█████████ | 4298/4741 [00:32<00:03, 131.33it/s]"
     ]
    },
    {
     "name": "stderr",
     "output_type": "stream",
     "text": [
      "\r",
      " 91%|█████████ | 4312/4741 [00:32<00:03, 133.19it/s]"
     ]
    },
    {
     "name": "stderr",
     "output_type": "stream",
     "text": [
      "\r",
      " 91%|█████████ | 4326/4741 [00:32<00:03, 134.02it/s]"
     ]
    },
    {
     "name": "stderr",
     "output_type": "stream",
     "text": [
      "\r",
      " 92%|█████████▏| 4340/4741 [00:32<00:03, 132.07it/s]"
     ]
    },
    {
     "name": "stderr",
     "output_type": "stream",
     "text": [
      "\r",
      " 92%|█████████▏| 4354/4741 [00:33<00:02, 133.52it/s]"
     ]
    },
    {
     "name": "stderr",
     "output_type": "stream",
     "text": [
      "\r",
      " 92%|█████████▏| 4368/4741 [00:33<00:02, 134.86it/s]"
     ]
    },
    {
     "name": "stderr",
     "output_type": "stream",
     "text": [
      "\r",
      " 92%|█████████▏| 4382/4741 [00:33<00:02, 135.76it/s]"
     ]
    },
    {
     "name": "stderr",
     "output_type": "stream",
     "text": [
      "\r",
      " 93%|█████████▎| 4396/4741 [00:33<00:02, 135.54it/s]"
     ]
    },
    {
     "name": "stderr",
     "output_type": "stream",
     "text": [
      "\r",
      " 93%|█████████▎| 4410/4741 [00:33<00:02, 136.42it/s]"
     ]
    },
    {
     "name": "stderr",
     "output_type": "stream",
     "text": [
      "\r",
      " 93%|█████████▎| 4424/4741 [00:33<00:02, 136.69it/s]"
     ]
    },
    {
     "name": "stderr",
     "output_type": "stream",
     "text": [
      "\r",
      " 94%|█████████▎| 4438/4741 [00:33<00:02, 135.60it/s]"
     ]
    },
    {
     "name": "stderr",
     "output_type": "stream",
     "text": [
      "\r",
      " 94%|█████████▍| 4452/4741 [00:33<00:02, 136.51it/s]"
     ]
    },
    {
     "name": "stderr",
     "output_type": "stream",
     "text": [
      "\r",
      " 94%|█████████▍| 4466/4741 [00:33<00:02, 136.44it/s]"
     ]
    },
    {
     "name": "stderr",
     "output_type": "stream",
     "text": [
      "\r",
      " 94%|█████████▍| 4480/4741 [00:34<00:01, 136.23it/s]"
     ]
    },
    {
     "name": "stderr",
     "output_type": "stream",
     "text": [
      "\r",
      " 95%|█████████▍| 4494/4741 [00:34<00:01, 136.72it/s]"
     ]
    },
    {
     "name": "stderr",
     "output_type": "stream",
     "text": [
      "\r",
      " 95%|█████████▌| 4508/4741 [00:34<00:01, 133.85it/s]"
     ]
    },
    {
     "name": "stderr",
     "output_type": "stream",
     "text": [
      "\r",
      " 95%|█████████▌| 4522/4741 [00:34<00:01, 131.80it/s]"
     ]
    },
    {
     "name": "stderr",
     "output_type": "stream",
     "text": [
      "\r",
      " 96%|█████████▌| 4536/4741 [00:34<00:01, 131.32it/s]"
     ]
    },
    {
     "name": "stderr",
     "output_type": "stream",
     "text": [
      "\r",
      " 96%|█████████▌| 4550/4741 [00:34<00:01, 133.41it/s]"
     ]
    },
    {
     "name": "stderr",
     "output_type": "stream",
     "text": [
      "\r",
      " 96%|█████████▋| 4564/4741 [00:34<00:01, 134.76it/s]"
     ]
    },
    {
     "name": "stderr",
     "output_type": "stream",
     "text": [
      "\r",
      " 97%|█████████▋| 4578/4741 [00:34<00:01, 134.97it/s]"
     ]
    },
    {
     "name": "stderr",
     "output_type": "stream",
     "text": [
      "\r",
      " 97%|█████████▋| 4592/4741 [00:34<00:01, 135.15it/s]"
     ]
    },
    {
     "name": "stderr",
     "output_type": "stream",
     "text": [
      "\r",
      " 97%|█████████▋| 4606/4741 [00:34<00:00, 136.00it/s]"
     ]
    },
    {
     "name": "stderr",
     "output_type": "stream",
     "text": [
      "\r",
      " 97%|█████████▋| 4620/4741 [00:35<00:00, 136.03it/s]"
     ]
    },
    {
     "name": "stderr",
     "output_type": "stream",
     "text": [
      "\r",
      " 98%|█████████▊| 4634/4741 [00:35<00:00, 136.79it/s]"
     ]
    },
    {
     "name": "stderr",
     "output_type": "stream",
     "text": [
      "\r",
      " 98%|█████████▊| 4648/4741 [00:35<00:00, 136.91it/s]"
     ]
    },
    {
     "name": "stderr",
     "output_type": "stream",
     "text": [
      "\r",
      " 98%|█████████▊| 4662/4741 [00:35<00:00, 136.51it/s]"
     ]
    },
    {
     "name": "stderr",
     "output_type": "stream",
     "text": [
      "\r",
      " 99%|█████████▊| 4676/4741 [00:35<00:00, 137.13it/s]"
     ]
    },
    {
     "name": "stderr",
     "output_type": "stream",
     "text": [
      "\r",
      " 99%|█████████▉| 4690/4741 [00:35<00:00, 137.36it/s]"
     ]
    },
    {
     "name": "stderr",
     "output_type": "stream",
     "text": [
      "\r",
      " 99%|█████████▉| 4704/4741 [00:35<00:00, 136.68it/s]"
     ]
    },
    {
     "name": "stderr",
     "output_type": "stream",
     "text": [
      "\r",
      "100%|█████████▉| 4718/4741 [00:35<00:00, 136.81it/s]"
     ]
    },
    {
     "name": "stderr",
     "output_type": "stream",
     "text": [
      "\r",
      "100%|█████████▉| 4732/4741 [00:35<00:00, 137.06it/s]"
     ]
    },
    {
     "name": "stderr",
     "output_type": "stream",
     "text": [
      "\r",
      "100%|██████████| 4741/4741 [00:35<00:00, 131.95it/s]"
     ]
    },
    {
     "name": "stderr",
     "output_type": "stream",
     "text": [
      "\n"
     ]
    }
   ],
   "source": [
    "prod_companies = get_averages_for_columns(movie_details_neat, id_maps, 'id', 'production_companies', True, data_dir+'pre-processed/')"
   ]
  },
  {
   "cell_type": "code",
   "execution_count": 7,
   "metadata": {},
   "outputs": [
    {
     "data": {
      "text/html": [
       "<div>\n",
       "<style scoped>\n",
       "    .dataframe tbody tr th:only-of-type {\n",
       "        vertical-align: middle;\n",
       "    }\n",
       "\n",
       "    .dataframe tbody tr th {\n",
       "        vertical-align: top;\n",
       "    }\n",
       "\n",
       "    .dataframe thead th {\n",
       "        text-align: right;\n",
       "    }\n",
       "</style>\n",
       "<table border=\"1\" class=\"dataframe\">\n",
       "  <thead>\n",
       "    <tr style=\"text-align: right;\">\n",
       "      <th></th>\n",
       "      <th>id</th>\n",
       "      <th>budget</th>\n",
       "      <th>popularity</th>\n",
       "      <th>revenue</th>\n",
       "      <th>runtime</th>\n",
       "      <th>vote_average</th>\n",
       "      <th>vote_count</th>\n",
       "      <th>appearances</th>\n",
       "    </tr>\n",
       "  </thead>\n",
       "  <tbody>\n",
       "    <tr>\n",
       "      <th>0</th>\n",
       "      <td>Village Roadshow Pictures</td>\n",
       "      <td>6.050704e+07</td>\n",
       "      <td>28.754815</td>\n",
       "      <td>1.303950e+08</td>\n",
       "      <td>108.126761</td>\n",
       "      <td>5.914085</td>\n",
       "      <td>969.943662</td>\n",
       "      <td>71</td>\n",
       "    </tr>\n",
       "    <tr>\n",
       "      <th>1</th>\n",
       "      <td>Bazmark Films</td>\n",
       "      <td>7.550000e+07</td>\n",
       "      <td>47.226113</td>\n",
       "      <td>1.817767e+08</td>\n",
       "      <td>138.750000</td>\n",
       "      <td>6.925000</td>\n",
       "      <td>1784.250000</td>\n",
       "      <td>4</td>\n",
       "    </tr>\n",
       "    <tr>\n",
       "      <th>2</th>\n",
       "      <td>Warner Bros.</td>\n",
       "      <td>4.518166e+07</td>\n",
       "      <td>25.835690</td>\n",
       "      <td>1.030195e+08</td>\n",
       "      <td>113.666667</td>\n",
       "      <td>6.252381</td>\n",
       "      <td>819.864469</td>\n",
       "      <td>273</td>\n",
       "    </tr>\n",
       "    <tr>\n",
       "      <th>3</th>\n",
       "      <td>A&amp;E Television Networks</td>\n",
       "      <td>1.050000e+08</td>\n",
       "      <td>61.196071</td>\n",
       "      <td>3.510404e+08</td>\n",
       "      <td>143.000000</td>\n",
       "      <td>7.300000</td>\n",
       "      <td>3769.000000</td>\n",
       "      <td>1</td>\n",
       "    </tr>\n",
       "    <tr>\n",
       "      <th>4</th>\n",
       "      <td>Red Wagon Entertainment</td>\n",
       "      <td>8.740000e+07</td>\n",
       "      <td>58.792163</td>\n",
       "      <td>1.844831e+08</td>\n",
       "      <td>127.000000</td>\n",
       "      <td>6.720000</td>\n",
       "      <td>2216.400000</td>\n",
       "      <td>5</td>\n",
       "    </tr>\n",
       "  </tbody>\n",
       "</table>\n",
       "</div>"
      ],
      "text/plain": [
       "                          id        budget  popularity       revenue  \\\n",
       "0  Village Roadshow Pictures  6.050704e+07   28.754815  1.303950e+08   \n",
       "1              Bazmark Films  7.550000e+07   47.226113  1.817767e+08   \n",
       "2               Warner Bros.  4.518166e+07   25.835690  1.030195e+08   \n",
       "3    A&E Television Networks  1.050000e+08   61.196071  3.510404e+08   \n",
       "4    Red Wagon Entertainment  8.740000e+07   58.792163  1.844831e+08   \n",
       "\n",
       "      runtime  vote_average   vote_count  appearances  \n",
       "0  108.126761      5.914085   969.943662           71  \n",
       "1  138.750000      6.925000  1784.250000            4  \n",
       "2  113.666667      6.252381   819.864469          273  \n",
       "3  143.000000      7.300000  3769.000000            1  \n",
       "4  127.000000      6.720000  2216.400000            5  "
      ]
     },
     "execution_count": 7,
     "metadata": {},
     "output_type": "execute_result"
    }
   ],
   "source": [
    "prod_companies.head()"
   ]
  },
  {
   "cell_type": "markdown",
   "metadata": {},
   "source": [
    "The following function generates the average values on the columns for different production countries."
   ]
  },
  {
   "cell_type": "code",
   "execution_count": 8,
   "metadata": {},
   "outputs": [
    {
     "name": "stderr",
     "output_type": "stream",
     "text": [
      "\r",
      "  0%|          | 0/80 [00:00<?, ?it/s]"
     ]
    },
    {
     "name": "stderr",
     "output_type": "stream",
     "text": [
      "\r",
      " 15%|█▌        | 12/80 [00:00<00:00, 115.37it/s]"
     ]
    },
    {
     "name": "stderr",
     "output_type": "stream",
     "text": [
      "\r",
      " 32%|███▎      | 26/80 [00:00<00:00, 121.00it/s]"
     ]
    },
    {
     "name": "stderr",
     "output_type": "stream",
     "text": [
      "\r",
      " 51%|█████▏    | 41/80 [00:00<00:00, 126.51it/s]"
     ]
    },
    {
     "name": "stderr",
     "output_type": "stream",
     "text": [
      "\r",
      " 70%|███████   | 56/80 [00:00<00:00, 130.59it/s]"
     ]
    },
    {
     "name": "stderr",
     "output_type": "stream",
     "text": [
      "\r",
      " 89%|████████▉ | 71/80 [00:00<00:00, 133.41it/s]"
     ]
    },
    {
     "name": "stderr",
     "output_type": "stream",
     "text": [
      "\r",
      "100%|██████████| 80/80 [00:00<00:00, 135.60it/s]"
     ]
    },
    {
     "name": "stderr",
     "output_type": "stream",
     "text": [
      "\n"
     ]
    }
   ],
   "source": [
    "prod_countries = get_averages_for_columns(movie_details_neat, id_maps, 'iso_3166_1', 'production_countries', True, data_dir+'pre-processed/')"
   ]
  },
  {
   "cell_type": "code",
   "execution_count": 9,
   "metadata": {},
   "outputs": [
    {
     "data": {
      "text/html": [
       "<div>\n",
       "<style scoped>\n",
       "    .dataframe tbody tr th:only-of-type {\n",
       "        vertical-align: middle;\n",
       "    }\n",
       "\n",
       "    .dataframe tbody tr th {\n",
       "        vertical-align: top;\n",
       "    }\n",
       "\n",
       "    .dataframe thead th {\n",
       "        text-align: right;\n",
       "    }\n",
       "</style>\n",
       "<table border=\"1\" class=\"dataframe\">\n",
       "  <thead>\n",
       "    <tr style=\"text-align: right;\">\n",
       "      <th></th>\n",
       "      <th>id</th>\n",
       "      <th>budget</th>\n",
       "      <th>popularity</th>\n",
       "      <th>revenue</th>\n",
       "      <th>runtime</th>\n",
       "      <th>vote_average</th>\n",
       "      <th>vote_count</th>\n",
       "      <th>appearances</th>\n",
       "    </tr>\n",
       "  </thead>\n",
       "  <tbody>\n",
       "    <tr>\n",
       "      <th>0</th>\n",
       "      <td>United States of America</td>\n",
       "      <td>2.772917e+07</td>\n",
       "      <td>19.779870</td>\n",
       "      <td>6.683584e+07</td>\n",
       "      <td>106.019537</td>\n",
       "      <td>6.121183</td>\n",
       "      <td>564.818030</td>\n",
       "      <td>3583</td>\n",
       "    </tr>\n",
       "    <tr>\n",
       "      <th>1</th>\n",
       "      <td>Australia</td>\n",
       "      <td>3.665069e+07</td>\n",
       "      <td>18.900742</td>\n",
       "      <td>7.283648e+07</td>\n",
       "      <td>103.904762</td>\n",
       "      <td>5.953333</td>\n",
       "      <td>506.485714</td>\n",
       "      <td>105</td>\n",
       "    </tr>\n",
       "    <tr>\n",
       "      <th>2</th>\n",
       "      <td>Germany</td>\n",
       "      <td>3.426556e+07</td>\n",
       "      <td>19.953543</td>\n",
       "      <td>6.254639e+07</td>\n",
       "      <td>111.121311</td>\n",
       "      <td>6.232787</td>\n",
       "      <td>566.980328</td>\n",
       "      <td>305</td>\n",
       "    </tr>\n",
       "    <tr>\n",
       "      <th>3</th>\n",
       "      <td>Belgium</td>\n",
       "      <td>1.982165e+07</td>\n",
       "      <td>13.927995</td>\n",
       "      <td>2.392685e+07</td>\n",
       "      <td>104.500000</td>\n",
       "      <td>6.366667</td>\n",
       "      <td>252.541667</td>\n",
       "      <td>24</td>\n",
       "    </tr>\n",
       "    <tr>\n",
       "      <th>4</th>\n",
       "      <td>India</td>\n",
       "      <td>2.050000e+07</td>\n",
       "      <td>12.072710</td>\n",
       "      <td>5.088223e+07</td>\n",
       "      <td>123.772727</td>\n",
       "      <td>6.156818</td>\n",
       "      <td>411.840909</td>\n",
       "      <td>44</td>\n",
       "    </tr>\n",
       "  </tbody>\n",
       "</table>\n",
       "</div>"
      ],
      "text/plain": [
       "                         id        budget  popularity       revenue  \\\n",
       "0  United States of America  2.772917e+07   19.779870  6.683584e+07   \n",
       "1                 Australia  3.665069e+07   18.900742  7.283648e+07   \n",
       "2                   Germany  3.426556e+07   19.953543  6.254639e+07   \n",
       "3                   Belgium  1.982165e+07   13.927995  2.392685e+07   \n",
       "4                     India  2.050000e+07   12.072710  5.088223e+07   \n",
       "\n",
       "      runtime  vote_average  vote_count  appearances  \n",
       "0  106.019537      6.121183  564.818030         3583  \n",
       "1  103.904762      5.953333  506.485714          105  \n",
       "2  111.121311      6.232787  566.980328          305  \n",
       "3  104.500000      6.366667  252.541667           24  \n",
       "4  123.772727      6.156818  411.840909           44  "
      ]
     },
     "execution_count": 9,
     "metadata": {},
     "output_type": "execute_result"
    }
   ],
   "source": [
    "prod_countries.head()"
   ]
  },
  {
   "cell_type": "code",
   "execution_count": 10,
   "metadata": {},
   "outputs": [
    {
     "data": {
      "text/html": [
       "<div>\n",
       "<style scoped>\n",
       "    .dataframe tbody tr th:only-of-type {\n",
       "        vertical-align: middle;\n",
       "    }\n",
       "\n",
       "    .dataframe tbody tr th {\n",
       "        vertical-align: top;\n",
       "    }\n",
       "\n",
       "    .dataframe thead th {\n",
       "        text-align: right;\n",
       "    }\n",
       "</style>\n",
       "<table border=\"1\" class=\"dataframe\">\n",
       "  <thead>\n",
       "    <tr style=\"text-align: right;\">\n",
       "      <th></th>\n",
       "      <th>budget</th>\n",
       "      <th>popularity</th>\n",
       "      <th>revenue</th>\n",
       "      <th>runtime</th>\n",
       "      <th>vote_average</th>\n",
       "      <th>vote_count</th>\n",
       "      <th>appearances</th>\n",
       "    </tr>\n",
       "  </thead>\n",
       "  <tbody>\n",
       "    <tr>\n",
       "      <th>count</th>\n",
       "      <td>4.741000e+03</td>\n",
       "      <td>4741.000000</td>\n",
       "      <td>4.741000e+03</td>\n",
       "      <td>4741.000000</td>\n",
       "      <td>4741.000000</td>\n",
       "      <td>4741.000000</td>\n",
       "      <td>4741.000000</td>\n",
       "    </tr>\n",
       "    <tr>\n",
       "      <th>mean</th>\n",
       "      <td>2.250971e+07</td>\n",
       "      <td>18.478442</td>\n",
       "      <td>4.843291e+07</td>\n",
       "      <td>107.080984</td>\n",
       "      <td>6.224094</td>\n",
       "      <td>501.616981</td>\n",
       "      <td>2.632567</td>\n",
       "    </tr>\n",
       "    <tr>\n",
       "      <th>std</th>\n",
       "      <td>2.676551e+07</td>\n",
       "      <td>16.437388</td>\n",
       "      <td>7.236547e+07</td>\n",
       "      <td>15.947909</td>\n",
       "      <td>0.868265</td>\n",
       "      <td>630.795972</td>\n",
       "      <td>9.866856</td>\n",
       "    </tr>\n",
       "    <tr>\n",
       "      <th>min</th>\n",
       "      <td>0.000000e+00</td>\n",
       "      <td>0.008453</td>\n",
       "      <td>0.000000e+00</td>\n",
       "      <td>41.000000</td>\n",
       "      <td>2.700000</td>\n",
       "      <td>1.000000</td>\n",
       "      <td>1.000000</td>\n",
       "    </tr>\n",
       "    <tr>\n",
       "      <th>25%</th>\n",
       "      <td>2.080000e+06</td>\n",
       "      <td>6.169125</td>\n",
       "      <td>7.920000e+02</td>\n",
       "      <td>96.000000</td>\n",
       "      <td>5.750000</td>\n",
       "      <td>77.000000</td>\n",
       "      <td>1.000000</td>\n",
       "    </tr>\n",
       "    <tr>\n",
       "      <th>50%</th>\n",
       "      <td>1.300000e+07</td>\n",
       "      <td>14.033065</td>\n",
       "      <td>1.774253e+07</td>\n",
       "      <td>105.000000</td>\n",
       "      <td>6.300000</td>\n",
       "      <td>273.666667</td>\n",
       "      <td>1.000000</td>\n",
       "    </tr>\n",
       "    <tr>\n",
       "      <th>75%</th>\n",
       "      <td>3.300000e+07</td>\n",
       "      <td>26.023778</td>\n",
       "      <td>6.836849e+07</td>\n",
       "      <td>116.000000</td>\n",
       "      <td>6.800000</td>\n",
       "      <td>672.500000</td>\n",
       "      <td>2.000000</td>\n",
       "    </tr>\n",
       "    <tr>\n",
       "      <th>max</th>\n",
       "      <td>1.500000e+08</td>\n",
       "      <td>116.700319</td>\n",
       "      <td>5.463881e+08</td>\n",
       "      <td>174.000000</td>\n",
       "      <td>9.300000</td>\n",
       "      <td>4369.000000</td>\n",
       "      <td>281.000000</td>\n",
       "    </tr>\n",
       "  </tbody>\n",
       "</table>\n",
       "</div>"
      ],
      "text/plain": [
       "             budget   popularity       revenue      runtime  vote_average  \\\n",
       "count  4.741000e+03  4741.000000  4.741000e+03  4741.000000   4741.000000   \n",
       "mean   2.250971e+07    18.478442  4.843291e+07   107.080984      6.224094   \n",
       "std    2.676551e+07    16.437388  7.236547e+07    15.947909      0.868265   \n",
       "min    0.000000e+00     0.008453  0.000000e+00    41.000000      2.700000   \n",
       "25%    2.080000e+06     6.169125  7.920000e+02    96.000000      5.750000   \n",
       "50%    1.300000e+07    14.033065  1.774253e+07   105.000000      6.300000   \n",
       "75%    3.300000e+07    26.023778  6.836849e+07   116.000000      6.800000   \n",
       "max    1.500000e+08   116.700319  5.463881e+08   174.000000      9.300000   \n",
       "\n",
       "        vote_count  appearances  \n",
       "count  4741.000000  4741.000000  \n",
       "mean    501.616981     2.632567  \n",
       "std     630.795972     9.866856  \n",
       "min       1.000000     1.000000  \n",
       "25%      77.000000     1.000000  \n",
       "50%     273.666667     1.000000  \n",
       "75%     672.500000     2.000000  \n",
       "max    4369.000000   281.000000  "
      ]
     },
     "execution_count": 10,
     "metadata": {},
     "output_type": "execute_result"
    }
   ],
   "source": [
    "prod_companies.describe()"
   ]
  },
  {
   "cell_type": "code",
   "execution_count": 11,
   "metadata": {},
   "outputs": [
    {
     "data": {
      "text/html": [
       "<div>\n",
       "<style scoped>\n",
       "    .dataframe tbody tr th:only-of-type {\n",
       "        vertical-align: middle;\n",
       "    }\n",
       "\n",
       "    .dataframe tbody tr th {\n",
       "        vertical-align: top;\n",
       "    }\n",
       "\n",
       "    .dataframe thead th {\n",
       "        text-align: right;\n",
       "    }\n",
       "</style>\n",
       "<table border=\"1\" class=\"dataframe\">\n",
       "  <thead>\n",
       "    <tr style=\"text-align: right;\">\n",
       "      <th></th>\n",
       "      <th>budget</th>\n",
       "      <th>popularity</th>\n",
       "      <th>revenue</th>\n",
       "      <th>runtime</th>\n",
       "      <th>vote_average</th>\n",
       "      <th>vote_count</th>\n",
       "      <th>appearances</th>\n",
       "    </tr>\n",
       "  </thead>\n",
       "  <tbody>\n",
       "    <tr>\n",
       "      <th>count</th>\n",
       "      <td>8.000000e+01</td>\n",
       "      <td>80.000000</td>\n",
       "      <td>8.000000e+01</td>\n",
       "      <td>80.000000</td>\n",
       "      <td>80.000000</td>\n",
       "      <td>80.000000</td>\n",
       "      <td>80.000000</td>\n",
       "    </tr>\n",
       "    <tr>\n",
       "      <th>mean</th>\n",
       "      <td>1.962783e+07</td>\n",
       "      <td>14.883277</td>\n",
       "      <td>3.264814e+07</td>\n",
       "      <td>110.446586</td>\n",
       "      <td>6.210856</td>\n",
       "      <td>353.994944</td>\n",
       "      <td>73.350000</td>\n",
       "    </tr>\n",
       "    <tr>\n",
       "      <th>std</th>\n",
       "      <td>1.818128e+07</td>\n",
       "      <td>10.905506</td>\n",
       "      <td>3.768346e+07</td>\n",
       "      <td>14.256133</td>\n",
       "      <td>0.819173</td>\n",
       "      <td>309.368583</td>\n",
       "      <td>405.801757</td>\n",
       "    </tr>\n",
       "    <tr>\n",
       "      <th>min</th>\n",
       "      <td>0.000000e+00</td>\n",
       "      <td>0.025211</td>\n",
       "      <td>0.000000e+00</td>\n",
       "      <td>83.000000</td>\n",
       "      <td>2.800000</td>\n",
       "      <td>2.000000</td>\n",
       "      <td>1.000000</td>\n",
       "    </tr>\n",
       "    <tr>\n",
       "      <th>25%</th>\n",
       "      <td>4.818750e+06</td>\n",
       "      <td>7.527147</td>\n",
       "      <td>1.932542e+05</td>\n",
       "      <td>102.312500</td>\n",
       "      <td>5.986738</td>\n",
       "      <td>107.000000</td>\n",
       "      <td>1.000000</td>\n",
       "    </tr>\n",
       "    <tr>\n",
       "      <th>50%</th>\n",
       "      <td>1.669322e+07</td>\n",
       "      <td>13.890288</td>\n",
       "      <td>2.180435e+07</td>\n",
       "      <td>109.944444</td>\n",
       "      <td>6.341176</td>\n",
       "      <td>320.750000</td>\n",
       "      <td>3.500000</td>\n",
       "    </tr>\n",
       "    <tr>\n",
       "      <th>75%</th>\n",
       "      <td>2.643229e+07</td>\n",
       "      <td>19.423384</td>\n",
       "      <td>5.458768e+07</td>\n",
       "      <td>116.193510</td>\n",
       "      <td>6.657857</td>\n",
       "      <td>500.985835</td>\n",
       "      <td>18.250000</td>\n",
       "    </tr>\n",
       "    <tr>\n",
       "      <th>max</th>\n",
       "      <td>7.500000e+07</td>\n",
       "      <td>54.814890</td>\n",
       "      <td>2.032776e+08</td>\n",
       "      <td>173.000000</td>\n",
       "      <td>7.800000</td>\n",
       "      <td>1584.000000</td>\n",
       "      <td>3583.000000</td>\n",
       "    </tr>\n",
       "  </tbody>\n",
       "</table>\n",
       "</div>"
      ],
      "text/plain": [
       "             budget  popularity       revenue     runtime  vote_average  \\\n",
       "count  8.000000e+01   80.000000  8.000000e+01   80.000000     80.000000   \n",
       "mean   1.962783e+07   14.883277  3.264814e+07  110.446586      6.210856   \n",
       "std    1.818128e+07   10.905506  3.768346e+07   14.256133      0.819173   \n",
       "min    0.000000e+00    0.025211  0.000000e+00   83.000000      2.800000   \n",
       "25%    4.818750e+06    7.527147  1.932542e+05  102.312500      5.986738   \n",
       "50%    1.669322e+07   13.890288  2.180435e+07  109.944444      6.341176   \n",
       "75%    2.643229e+07   19.423384  5.458768e+07  116.193510      6.657857   \n",
       "max    7.500000e+07   54.814890  2.032776e+08  173.000000      7.800000   \n",
       "\n",
       "        vote_count  appearances  \n",
       "count    80.000000    80.000000  \n",
       "mean    353.994944    73.350000  \n",
       "std     309.368583   405.801757  \n",
       "min       2.000000     1.000000  \n",
       "25%     107.000000     1.000000  \n",
       "50%     320.750000     3.500000  \n",
       "75%     500.985835    18.250000  \n",
       "max    1584.000000  3583.000000  "
      ]
     },
     "execution_count": 11,
     "metadata": {},
     "output_type": "execute_result"
    }
   ],
   "source": [
    "prod_countries.describe()"
   ]
  },
  {
   "cell_type": "code",
   "execution_count": 12,
   "metadata": {},
   "outputs": [
    {
     "data": {
      "text/plain": [
       "(137, 8)"
      ]
     },
     "execution_count": 12,
     "metadata": {},
     "output_type": "execute_result"
    }
   ],
   "source": [
    "# Select all with appearances > 2\n",
    "prod_companies_pop = prod_companies[prod_companies['appearances'] > 10]\n",
    "\n",
    "prod_companies_pop.head()\n",
    "prod_companies_pop.shape"
   ]
  },
  {
   "cell_type": "code",
   "execution_count": 13,
   "metadata": {},
   "outputs": [
    {
     "data": {
      "text/html": [
       "<div>\n",
       "<style scoped>\n",
       "    .dataframe tbody tr th:only-of-type {\n",
       "        vertical-align: middle;\n",
       "    }\n",
       "\n",
       "    .dataframe tbody tr th {\n",
       "        vertical-align: top;\n",
       "    }\n",
       "\n",
       "    .dataframe thead th {\n",
       "        text-align: right;\n",
       "    }\n",
       "</style>\n",
       "<table border=\"1\" class=\"dataframe\">\n",
       "  <thead>\n",
       "    <tr style=\"text-align: right;\">\n",
       "      <th></th>\n",
       "      <th>budget</th>\n",
       "      <th>popularity</th>\n",
       "      <th>revenue</th>\n",
       "      <th>runtime</th>\n",
       "      <th>vote_average</th>\n",
       "      <th>vote_count</th>\n",
       "      <th>appearances</th>\n",
       "    </tr>\n",
       "  </thead>\n",
       "  <tbody>\n",
       "    <tr>\n",
       "      <th>count</th>\n",
       "      <td>1.370000e+02</td>\n",
       "      <td>137.000000</td>\n",
       "      <td>1.370000e+02</td>\n",
       "      <td>137.000000</td>\n",
       "      <td>137.000000</td>\n",
       "      <td>137.000000</td>\n",
       "      <td>137.000000</td>\n",
       "    </tr>\n",
       "    <tr>\n",
       "      <th>mean</th>\n",
       "      <td>3.551932e+07</td>\n",
       "      <td>24.418570</td>\n",
       "      <td>8.310923e+07</td>\n",
       "      <td>108.018810</td>\n",
       "      <td>6.157850</td>\n",
       "      <td>733.481822</td>\n",
       "      <td>35.182482</td>\n",
       "    </tr>\n",
       "    <tr>\n",
       "      <th>std</th>\n",
       "      <td>1.912650e+07</td>\n",
       "      <td>8.251073</td>\n",
       "      <td>4.963985e+07</td>\n",
       "      <td>6.985664</td>\n",
       "      <td>0.338779</td>\n",
       "      <td>350.666032</td>\n",
       "      <td>47.090529</td>\n",
       "    </tr>\n",
       "    <tr>\n",
       "      <th>min</th>\n",
       "      <td>4.095750e+06</td>\n",
       "      <td>6.444335</td>\n",
       "      <td>1.913513e+06</td>\n",
       "      <td>88.818182</td>\n",
       "      <td>5.168750</td>\n",
       "      <td>89.083333</td>\n",
       "      <td>11.000000</td>\n",
       "    </tr>\n",
       "    <tr>\n",
       "      <th>25%</th>\n",
       "      <td>2.131436e+07</td>\n",
       "      <td>18.527475</td>\n",
       "      <td>5.159140e+07</td>\n",
       "      <td>103.769231</td>\n",
       "      <td>5.909091</td>\n",
       "      <td>497.382353</td>\n",
       "      <td>13.000000</td>\n",
       "    </tr>\n",
       "    <tr>\n",
       "      <th>50%</th>\n",
       "      <td>3.432432e+07</td>\n",
       "      <td>23.954376</td>\n",
       "      <td>7.895316e+07</td>\n",
       "      <td>107.911765</td>\n",
       "      <td>6.158333</td>\n",
       "      <td>705.750000</td>\n",
       "      <td>18.000000</td>\n",
       "    </tr>\n",
       "    <tr>\n",
       "      <th>75%</th>\n",
       "      <td>4.645455e+07</td>\n",
       "      <td>28.359407</td>\n",
       "      <td>1.058324e+08</td>\n",
       "      <td>112.272727</td>\n",
       "      <td>6.411290</td>\n",
       "      <td>914.450000</td>\n",
       "      <td>35.000000</td>\n",
       "    </tr>\n",
       "    <tr>\n",
       "      <th>max</th>\n",
       "      <td>9.980000e+07</td>\n",
       "      <td>47.943306</td>\n",
       "      <td>2.780332e+08</td>\n",
       "      <td>129.833333</td>\n",
       "      <td>6.907692</td>\n",
       "      <td>2134.909091</td>\n",
       "      <td>281.000000</td>\n",
       "    </tr>\n",
       "  </tbody>\n",
       "</table>\n",
       "</div>"
      ],
      "text/plain": [
       "             budget  popularity       revenue     runtime  vote_average  \\\n",
       "count  1.370000e+02  137.000000  1.370000e+02  137.000000    137.000000   \n",
       "mean   3.551932e+07   24.418570  8.310923e+07  108.018810      6.157850   \n",
       "std    1.912650e+07    8.251073  4.963985e+07    6.985664      0.338779   \n",
       "min    4.095750e+06    6.444335  1.913513e+06   88.818182      5.168750   \n",
       "25%    2.131436e+07   18.527475  5.159140e+07  103.769231      5.909091   \n",
       "50%    3.432432e+07   23.954376  7.895316e+07  107.911765      6.158333   \n",
       "75%    4.645455e+07   28.359407  1.058324e+08  112.272727      6.411290   \n",
       "max    9.980000e+07   47.943306  2.780332e+08  129.833333      6.907692   \n",
       "\n",
       "        vote_count  appearances  \n",
       "count   137.000000   137.000000  \n",
       "mean    733.481822    35.182482  \n",
       "std     350.666032    47.090529  \n",
       "min      89.083333    11.000000  \n",
       "25%     497.382353    13.000000  \n",
       "50%     705.750000    18.000000  \n",
       "75%     914.450000    35.000000  \n",
       "max    2134.909091   281.000000  "
      ]
     },
     "execution_count": 13,
     "metadata": {},
     "output_type": "execute_result"
    }
   ],
   "source": [
    "prod_companies_pop.describe()"
   ]
  },
  {
   "cell_type": "markdown",
   "metadata": {},
   "source": [
    "Highest budget"
   ]
  },
  {
   "cell_type": "code",
   "execution_count": 14,
   "metadata": {},
   "outputs": [
    {
     "data": {
      "text/html": [
       "<div>\n",
       "<style scoped>\n",
       "    .dataframe tbody tr th:only-of-type {\n",
       "        vertical-align: middle;\n",
       "    }\n",
       "\n",
       "    .dataframe tbody tr th {\n",
       "        vertical-align: top;\n",
       "    }\n",
       "\n",
       "    .dataframe thead th {\n",
       "        text-align: right;\n",
       "    }\n",
       "</style>\n",
       "<table border=\"1\" class=\"dataframe\">\n",
       "  <thead>\n",
       "    <tr style=\"text-align: right;\">\n",
       "      <th></th>\n",
       "      <th>id</th>\n",
       "      <th>budget</th>\n",
       "      <th>popularity</th>\n",
       "      <th>revenue</th>\n",
       "      <th>runtime</th>\n",
       "      <th>vote_average</th>\n",
       "      <th>vote_count</th>\n",
       "      <th>appearances</th>\n",
       "    </tr>\n",
       "  </thead>\n",
       "  <tbody>\n",
       "    <tr>\n",
       "      <th>65</th>\n",
       "      <td>DreamWorks Animation</td>\n",
       "      <td>9.980000e+07</td>\n",
       "      <td>45.001931</td>\n",
       "      <td>2.780332e+08</td>\n",
       "      <td>89.750000</td>\n",
       "      <td>6.570000</td>\n",
       "      <td>1406.850000</td>\n",
       "      <td>20</td>\n",
       "    </tr>\n",
       "    <tr>\n",
       "      <th>27</th>\n",
       "      <td>Kennedy/Marshall Company, The</td>\n",
       "      <td>9.233333e+07</td>\n",
       "      <td>45.064942</td>\n",
       "      <td>2.326829e+08</td>\n",
       "      <td>125.750000</td>\n",
       "      <td>6.316667</td>\n",
       "      <td>1524.166667</td>\n",
       "      <td>12</td>\n",
       "    </tr>\n",
       "    <tr>\n",
       "      <th>46</th>\n",
       "      <td>Marvel Enterprises</td>\n",
       "      <td>8.654545e+07</td>\n",
       "      <td>34.589159</td>\n",
       "      <td>2.151583e+08</td>\n",
       "      <td>115.363636</td>\n",
       "      <td>5.909091</td>\n",
       "      <td>2134.909091</td>\n",
       "      <td>11</td>\n",
       "    </tr>\n",
       "    <tr>\n",
       "      <th>7</th>\n",
       "      <td>Jerry Bruckheimer Films</td>\n",
       "      <td>8.193333e+07</td>\n",
       "      <td>36.115018</td>\n",
       "      <td>1.965021e+08</td>\n",
       "      <td>115.866667</td>\n",
       "      <td>6.133333</td>\n",
       "      <td>1139.133333</td>\n",
       "      <td>15</td>\n",
       "    </tr>\n",
       "    <tr>\n",
       "      <th>36</th>\n",
       "      <td>1492 Pictures</td>\n",
       "      <td>7.461538e+07</td>\n",
       "      <td>39.037177</td>\n",
       "      <td>1.413491e+08</td>\n",
       "      <td>110.538462</td>\n",
       "      <td>5.976923</td>\n",
       "      <td>1109.000000</td>\n",
       "      <td>13</td>\n",
       "    </tr>\n",
       "  </tbody>\n",
       "</table>\n",
       "</div>"
      ],
      "text/plain": [
       "                               id        budget  popularity       revenue  \\\n",
       "65           DreamWorks Animation  9.980000e+07   45.001931  2.780332e+08   \n",
       "27  Kennedy/Marshall Company, The  9.233333e+07   45.064942  2.326829e+08   \n",
       "46             Marvel Enterprises  8.654545e+07   34.589159  2.151583e+08   \n",
       "7         Jerry Bruckheimer Films  8.193333e+07   36.115018  1.965021e+08   \n",
       "36                  1492 Pictures  7.461538e+07   39.037177  1.413491e+08   \n",
       "\n",
       "       runtime  vote_average   vote_count  appearances  \n",
       "65   89.750000      6.570000  1406.850000           20  \n",
       "27  125.750000      6.316667  1524.166667           12  \n",
       "46  115.363636      5.909091  2134.909091           11  \n",
       "7   115.866667      6.133333  1139.133333           15  \n",
       "36  110.538462      5.976923  1109.000000           13  "
      ]
     },
     "execution_count": 14,
     "metadata": {},
     "output_type": "execute_result"
    }
   ],
   "source": [
    "prod_companies_pop.nlargest(5,['budget'])"
   ]
  },
  {
   "cell_type": "markdown",
   "metadata": {},
   "source": [
    "Highest revenue"
   ]
  },
  {
   "cell_type": "code",
   "execution_count": 15,
   "metadata": {},
   "outputs": [
    {
     "data": {
      "text/html": [
       "<div>\n",
       "<style scoped>\n",
       "    .dataframe tbody tr th:only-of-type {\n",
       "        vertical-align: middle;\n",
       "    }\n",
       "\n",
       "    .dataframe tbody tr th {\n",
       "        vertical-align: top;\n",
       "    }\n",
       "\n",
       "    .dataframe thead th {\n",
       "        text-align: right;\n",
       "    }\n",
       "</style>\n",
       "<table border=\"1\" class=\"dataframe\">\n",
       "  <thead>\n",
       "    <tr style=\"text-align: right;\">\n",
       "      <th></th>\n",
       "      <th>id</th>\n",
       "      <th>budget</th>\n",
       "      <th>popularity</th>\n",
       "      <th>revenue</th>\n",
       "      <th>runtime</th>\n",
       "      <th>vote_average</th>\n",
       "      <th>vote_count</th>\n",
       "      <th>appearances</th>\n",
       "    </tr>\n",
       "  </thead>\n",
       "  <tbody>\n",
       "    <tr>\n",
       "      <th>65</th>\n",
       "      <td>DreamWorks Animation</td>\n",
       "      <td>9.980000e+07</td>\n",
       "      <td>45.001931</td>\n",
       "      <td>2.780332e+08</td>\n",
       "      <td>89.750000</td>\n",
       "      <td>6.570000</td>\n",
       "      <td>1406.850000</td>\n",
       "      <td>20</td>\n",
       "    </tr>\n",
       "    <tr>\n",
       "      <th>246</th>\n",
       "      <td>Sony Pictures Animation</td>\n",
       "      <td>7.183333e+07</td>\n",
       "      <td>39.600815</td>\n",
       "      <td>2.407964e+08</td>\n",
       "      <td>92.333333</td>\n",
       "      <td>6.183333</td>\n",
       "      <td>1146.250000</td>\n",
       "      <td>12</td>\n",
       "    </tr>\n",
       "    <tr>\n",
       "      <th>27</th>\n",
       "      <td>Kennedy/Marshall Company, The</td>\n",
       "      <td>9.233333e+07</td>\n",
       "      <td>45.064942</td>\n",
       "      <td>2.326829e+08</td>\n",
       "      <td>125.750000</td>\n",
       "      <td>6.316667</td>\n",
       "      <td>1524.166667</td>\n",
       "      <td>12</td>\n",
       "    </tr>\n",
       "    <tr>\n",
       "      <th>46</th>\n",
       "      <td>Marvel Enterprises</td>\n",
       "      <td>8.654545e+07</td>\n",
       "      <td>34.589159</td>\n",
       "      <td>2.151583e+08</td>\n",
       "      <td>115.363636</td>\n",
       "      <td>5.909091</td>\n",
       "      <td>2134.909091</td>\n",
       "      <td>11</td>\n",
       "    </tr>\n",
       "    <tr>\n",
       "      <th>158</th>\n",
       "      <td>TSG Entertainment</td>\n",
       "      <td>6.076471e+07</td>\n",
       "      <td>47.943306</td>\n",
       "      <td>1.993598e+08</td>\n",
       "      <td>112.647059</td>\n",
       "      <td>6.000000</td>\n",
       "      <td>2053.176471</td>\n",
       "      <td>17</td>\n",
       "    </tr>\n",
       "  </tbody>\n",
       "</table>\n",
       "</div>"
      ],
      "text/plain": [
       "                                id        budget  popularity       revenue  \\\n",
       "65            DreamWorks Animation  9.980000e+07   45.001931  2.780332e+08   \n",
       "246        Sony Pictures Animation  7.183333e+07   39.600815  2.407964e+08   \n",
       "27   Kennedy/Marshall Company, The  9.233333e+07   45.064942  2.326829e+08   \n",
       "46              Marvel Enterprises  8.654545e+07   34.589159  2.151583e+08   \n",
       "158              TSG Entertainment  6.076471e+07   47.943306  1.993598e+08   \n",
       "\n",
       "        runtime  vote_average   vote_count  appearances  \n",
       "65    89.750000      6.570000  1406.850000           20  \n",
       "246   92.333333      6.183333  1146.250000           12  \n",
       "27   125.750000      6.316667  1524.166667           12  \n",
       "46   115.363636      5.909091  2134.909091           11  \n",
       "158  112.647059      6.000000  2053.176471           17  "
      ]
     },
     "execution_count": 15,
     "metadata": {},
     "output_type": "execute_result"
    }
   ],
   "source": [
    "prod_companies_pop.nlargest(5,['revenue'])"
   ]
  },
  {
   "cell_type": "markdown",
   "metadata": {},
   "source": [
    "Most popular"
   ]
  },
  {
   "cell_type": "code",
   "execution_count": 16,
   "metadata": {},
   "outputs": [
    {
     "data": {
      "text/html": [
       "<div>\n",
       "<style scoped>\n",
       "    .dataframe tbody tr th:only-of-type {\n",
       "        vertical-align: middle;\n",
       "    }\n",
       "\n",
       "    .dataframe tbody tr th {\n",
       "        vertical-align: top;\n",
       "    }\n",
       "\n",
       "    .dataframe thead th {\n",
       "        text-align: right;\n",
       "    }\n",
       "</style>\n",
       "<table border=\"1\" class=\"dataframe\">\n",
       "  <thead>\n",
       "    <tr style=\"text-align: right;\">\n",
       "      <th></th>\n",
       "      <th>id</th>\n",
       "      <th>budget</th>\n",
       "      <th>popularity</th>\n",
       "      <th>revenue</th>\n",
       "      <th>runtime</th>\n",
       "      <th>vote_average</th>\n",
       "      <th>vote_count</th>\n",
       "      <th>appearances</th>\n",
       "    </tr>\n",
       "  </thead>\n",
       "  <tbody>\n",
       "    <tr>\n",
       "      <th>158</th>\n",
       "      <td>TSG Entertainment</td>\n",
       "      <td>6.076471e+07</td>\n",
       "      <td>47.943306</td>\n",
       "      <td>1.993598e+08</td>\n",
       "      <td>112.647059</td>\n",
       "      <td>6.000000</td>\n",
       "      <td>2053.176471</td>\n",
       "      <td>17</td>\n",
       "    </tr>\n",
       "    <tr>\n",
       "      <th>188</th>\n",
       "      <td>Media Rights Capital</td>\n",
       "      <td>3.570000e+07</td>\n",
       "      <td>47.252162</td>\n",
       "      <td>1.064246e+08</td>\n",
       "      <td>107.909091</td>\n",
       "      <td>6.054545</td>\n",
       "      <td>1691.272727</td>\n",
       "      <td>11</td>\n",
       "    </tr>\n",
       "    <tr>\n",
       "      <th>27</th>\n",
       "      <td>Kennedy/Marshall Company, The</td>\n",
       "      <td>9.233333e+07</td>\n",
       "      <td>45.064942</td>\n",
       "      <td>2.326829e+08</td>\n",
       "      <td>125.750000</td>\n",
       "      <td>6.316667</td>\n",
       "      <td>1524.166667</td>\n",
       "      <td>12</td>\n",
       "    </tr>\n",
       "    <tr>\n",
       "      <th>65</th>\n",
       "      <td>DreamWorks Animation</td>\n",
       "      <td>9.980000e+07</td>\n",
       "      <td>45.001931</td>\n",
       "      <td>2.780332e+08</td>\n",
       "      <td>89.750000</td>\n",
       "      <td>6.570000</td>\n",
       "      <td>1406.850000</td>\n",
       "      <td>20</td>\n",
       "    </tr>\n",
       "    <tr>\n",
       "      <th>55</th>\n",
       "      <td>Legendary Pictures</td>\n",
       "      <td>7.035000e+07</td>\n",
       "      <td>41.101814</td>\n",
       "      <td>1.425591e+08</td>\n",
       "      <td>111.200000</td>\n",
       "      <td>6.160000</td>\n",
       "      <td>1371.350000</td>\n",
       "      <td>20</td>\n",
       "    </tr>\n",
       "  </tbody>\n",
       "</table>\n",
       "</div>"
      ],
      "text/plain": [
       "                                id        budget  popularity       revenue  \\\n",
       "158              TSG Entertainment  6.076471e+07   47.943306  1.993598e+08   \n",
       "188           Media Rights Capital  3.570000e+07   47.252162  1.064246e+08   \n",
       "27   Kennedy/Marshall Company, The  9.233333e+07   45.064942  2.326829e+08   \n",
       "65            DreamWorks Animation  9.980000e+07   45.001931  2.780332e+08   \n",
       "55              Legendary Pictures  7.035000e+07   41.101814  1.425591e+08   \n",
       "\n",
       "        runtime  vote_average   vote_count  appearances  \n",
       "158  112.647059      6.000000  2053.176471           17  \n",
       "188  107.909091      6.054545  1691.272727           11  \n",
       "27   125.750000      6.316667  1524.166667           12  \n",
       "65    89.750000      6.570000  1406.850000           20  \n",
       "55   111.200000      6.160000  1371.350000           20  "
      ]
     },
     "execution_count": 16,
     "metadata": {},
     "output_type": "execute_result"
    }
   ],
   "source": [
    "prod_companies_pop.nlargest(5,['popularity'])"
   ]
  },
  {
   "cell_type": "markdown",
   "metadata": {},
   "source": [
    "Longest runtime"
   ]
  },
  {
   "cell_type": "code",
   "execution_count": 17,
   "metadata": {},
   "outputs": [
    {
     "data": {
      "text/html": [
       "<div>\n",
       "<style scoped>\n",
       "    .dataframe tbody tr th:only-of-type {\n",
       "        vertical-align: middle;\n",
       "    }\n",
       "\n",
       "    .dataframe tbody tr th {\n",
       "        vertical-align: top;\n",
       "    }\n",
       "\n",
       "    .dataframe thead th {\n",
       "        text-align: right;\n",
       "    }\n",
       "</style>\n",
       "<table border=\"1\" class=\"dataframe\">\n",
       "  <thead>\n",
       "    <tr style=\"text-align: right;\">\n",
       "      <th></th>\n",
       "      <th>id</th>\n",
       "      <th>budget</th>\n",
       "      <th>popularity</th>\n",
       "      <th>revenue</th>\n",
       "      <th>runtime</th>\n",
       "      <th>vote_average</th>\n",
       "      <th>vote_count</th>\n",
       "      <th>appearances</th>\n",
       "    </tr>\n",
       "  </thead>\n",
       "  <tbody>\n",
       "    <tr>\n",
       "      <th>757</th>\n",
       "      <td>Malpaso Productions</td>\n",
       "      <td>3.575000e+07</td>\n",
       "      <td>24.577265</td>\n",
       "      <td>1.037537e+08</td>\n",
       "      <td>129.833333</td>\n",
       "      <td>6.811111</td>\n",
       "      <td>816.500000</td>\n",
       "      <td>18</td>\n",
       "    </tr>\n",
       "    <tr>\n",
       "      <th>27</th>\n",
       "      <td>Kennedy/Marshall Company, The</td>\n",
       "      <td>9.233333e+07</td>\n",
       "      <td>45.064942</td>\n",
       "      <td>2.326829e+08</td>\n",
       "      <td>125.750000</td>\n",
       "      <td>6.316667</td>\n",
       "      <td>1524.166667</td>\n",
       "      <td>12</td>\n",
       "    </tr>\n",
       "    <tr>\n",
       "      <th>83</th>\n",
       "      <td>Eon Productions</td>\n",
       "      <td>3.483250e+07</td>\n",
       "      <td>35.118609</td>\n",
       "      <td>1.865427e+08</td>\n",
       "      <td>125.150000</td>\n",
       "      <td>6.350000</td>\n",
       "      <td>672.550000</td>\n",
       "      <td>20</td>\n",
       "    </tr>\n",
       "    <tr>\n",
       "      <th>102</th>\n",
       "      <td>Scott Free Productions</td>\n",
       "      <td>5.497826e+07</td>\n",
       "      <td>34.894158</td>\n",
       "      <td>8.984760e+07</td>\n",
       "      <td>124.304348</td>\n",
       "      <td>6.404348</td>\n",
       "      <td>861.043478</td>\n",
       "      <td>23</td>\n",
       "    </tr>\n",
       "    <tr>\n",
       "      <th>1015</th>\n",
       "      <td>40 Acres &amp; A Mule Filmworks</td>\n",
       "      <td>1.088333e+07</td>\n",
       "      <td>8.738867</td>\n",
       "      <td>2.037504e+07</td>\n",
       "      <td>123.000000</td>\n",
       "      <td>6.427778</td>\n",
       "      <td>180.722222</td>\n",
       "      <td>18</td>\n",
       "    </tr>\n",
       "  </tbody>\n",
       "</table>\n",
       "</div>"
      ],
      "text/plain": [
       "                                 id        budget  popularity       revenue  \\\n",
       "757             Malpaso Productions  3.575000e+07   24.577265  1.037537e+08   \n",
       "27    Kennedy/Marshall Company, The  9.233333e+07   45.064942  2.326829e+08   \n",
       "83                  Eon Productions  3.483250e+07   35.118609  1.865427e+08   \n",
       "102          Scott Free Productions  5.497826e+07   34.894158  8.984760e+07   \n",
       "1015    40 Acres & A Mule Filmworks  1.088333e+07    8.738867  2.037504e+07   \n",
       "\n",
       "         runtime  vote_average   vote_count  appearances  \n",
       "757   129.833333      6.811111   816.500000           18  \n",
       "27    125.750000      6.316667  1524.166667           12  \n",
       "83    125.150000      6.350000   672.550000           20  \n",
       "102   124.304348      6.404348   861.043478           23  \n",
       "1015  123.000000      6.427778   180.722222           18  "
      ]
     },
     "execution_count": 17,
     "metadata": {},
     "output_type": "execute_result"
    }
   ],
   "source": [
    "prod_companies_pop.nlargest(5,['runtime'])"
   ]
  },
  {
   "cell_type": "markdown",
   "metadata": {},
   "source": [
    "Shortest runtime"
   ]
  },
  {
   "cell_type": "code",
   "execution_count": 18,
   "metadata": {},
   "outputs": [
    {
     "data": {
      "text/html": [
       "<div>\n",
       "<style scoped>\n",
       "    .dataframe tbody tr th:only-of-type {\n",
       "        vertical-align: middle;\n",
       "    }\n",
       "\n",
       "    .dataframe tbody tr th {\n",
       "        vertical-align: top;\n",
       "    }\n",
       "\n",
       "    .dataframe thead th {\n",
       "        text-align: right;\n",
       "    }\n",
       "</style>\n",
       "<table border=\"1\" class=\"dataframe\">\n",
       "  <thead>\n",
       "    <tr style=\"text-align: right;\">\n",
       "      <th></th>\n",
       "      <th>id</th>\n",
       "      <th>budget</th>\n",
       "      <th>popularity</th>\n",
       "      <th>revenue</th>\n",
       "      <th>runtime</th>\n",
       "      <th>vote_average</th>\n",
       "      <th>vote_count</th>\n",
       "      <th>appearances</th>\n",
       "    </tr>\n",
       "  </thead>\n",
       "  <tbody>\n",
       "    <tr>\n",
       "      <th>96</th>\n",
       "      <td>Paramount Animation</td>\n",
       "      <td>4.090909e+07</td>\n",
       "      <td>16.906991</td>\n",
       "      <td>1.043112e+08</td>\n",
       "      <td>88.818182</td>\n",
       "      <td>5.836364</td>\n",
       "      <td>459.545455</td>\n",
       "      <td>11</td>\n",
       "    </tr>\n",
       "    <tr>\n",
       "      <th>65</th>\n",
       "      <td>DreamWorks Animation</td>\n",
       "      <td>9.980000e+07</td>\n",
       "      <td>45.001931</td>\n",
       "      <td>2.780332e+08</td>\n",
       "      <td>89.750000</td>\n",
       "      <td>6.570000</td>\n",
       "      <td>1406.850000</td>\n",
       "      <td>20</td>\n",
       "    </tr>\n",
       "    <tr>\n",
       "      <th>246</th>\n",
       "      <td>Sony Pictures Animation</td>\n",
       "      <td>7.183333e+07</td>\n",
       "      <td>39.600815</td>\n",
       "      <td>2.407964e+08</td>\n",
       "      <td>92.333333</td>\n",
       "      <td>6.183333</td>\n",
       "      <td>1146.250000</td>\n",
       "      <td>12</td>\n",
       "    </tr>\n",
       "    <tr>\n",
       "      <th>500</th>\n",
       "      <td>Robert Simonds Productions</td>\n",
       "      <td>2.261538e+07</td>\n",
       "      <td>16.569141</td>\n",
       "      <td>5.644777e+07</td>\n",
       "      <td>92.461538</td>\n",
       "      <td>5.384615</td>\n",
       "      <td>405.615385</td>\n",
       "      <td>13</td>\n",
       "    </tr>\n",
       "    <tr>\n",
       "      <th>3037</th>\n",
       "      <td>Blumhouse Productions</td>\n",
       "      <td>4.095750e+06</td>\n",
       "      <td>33.299516</td>\n",
       "      <td>8.611827e+07</td>\n",
       "      <td>93.150000</td>\n",
       "      <td>5.525000</td>\n",
       "      <td>914.450000</td>\n",
       "      <td>20</td>\n",
       "    </tr>\n",
       "  </tbody>\n",
       "</table>\n",
       "</div>"
      ],
      "text/plain": [
       "                              id        budget  popularity       revenue  \\\n",
       "96           Paramount Animation  4.090909e+07   16.906991  1.043112e+08   \n",
       "65          DreamWorks Animation  9.980000e+07   45.001931  2.780332e+08   \n",
       "246      Sony Pictures Animation  7.183333e+07   39.600815  2.407964e+08   \n",
       "500   Robert Simonds Productions  2.261538e+07   16.569141  5.644777e+07   \n",
       "3037       Blumhouse Productions  4.095750e+06   33.299516  8.611827e+07   \n",
       "\n",
       "        runtime  vote_average   vote_count  appearances  \n",
       "96    88.818182      5.836364   459.545455           11  \n",
       "65    89.750000      6.570000  1406.850000           20  \n",
       "246   92.333333      6.183333  1146.250000           12  \n",
       "500   92.461538      5.384615   405.615385           13  \n",
       "3037  93.150000      5.525000   914.450000           20  "
      ]
     },
     "execution_count": 18,
     "metadata": {},
     "output_type": "execute_result"
    }
   ],
   "source": [
    "prod_companies_pop.nsmallest(5,['runtime'])"
   ]
  },
  {
   "cell_type": "markdown",
   "metadata": {},
   "source": [
    "Highest vote average"
   ]
  },
  {
   "cell_type": "code",
   "execution_count": 19,
   "metadata": {},
   "outputs": [
    {
     "data": {
      "text/html": [
       "<div>\n",
       "<style scoped>\n",
       "    .dataframe tbody tr th:only-of-type {\n",
       "        vertical-align: middle;\n",
       "    }\n",
       "\n",
       "    .dataframe tbody tr th {\n",
       "        vertical-align: top;\n",
       "    }\n",
       "\n",
       "    .dataframe thead th {\n",
       "        text-align: right;\n",
       "    }\n",
       "</style>\n",
       "<table border=\"1\" class=\"dataframe\">\n",
       "  <thead>\n",
       "    <tr style=\"text-align: right;\">\n",
       "      <th></th>\n",
       "      <th>id</th>\n",
       "      <th>budget</th>\n",
       "      <th>popularity</th>\n",
       "      <th>revenue</th>\n",
       "      <th>runtime</th>\n",
       "      <th>vote_average</th>\n",
       "      <th>vote_count</th>\n",
       "      <th>appearances</th>\n",
       "    </tr>\n",
       "  </thead>\n",
       "  <tbody>\n",
       "    <tr>\n",
       "      <th>1917</th>\n",
       "      <td>Channel Four Films</td>\n",
       "      <td>5.851195e+06</td>\n",
       "      <td>13.749363</td>\n",
       "      <td>5.282634e+07</td>\n",
       "      <td>106.692308</td>\n",
       "      <td>6.907692</td>\n",
       "      <td>369.076923</td>\n",
       "      <td>13</td>\n",
       "    </tr>\n",
       "    <tr>\n",
       "      <th>757</th>\n",
       "      <td>Malpaso Productions</td>\n",
       "      <td>3.575000e+07</td>\n",
       "      <td>24.577265</td>\n",
       "      <td>1.037537e+08</td>\n",
       "      <td>129.833333</td>\n",
       "      <td>6.811111</td>\n",
       "      <td>816.500000</td>\n",
       "      <td>18</td>\n",
       "    </tr>\n",
       "    <tr>\n",
       "      <th>1169</th>\n",
       "      <td>Pathé</td>\n",
       "      <td>1.609167e+07</td>\n",
       "      <td>26.344712</td>\n",
       "      <td>5.199480e+07</td>\n",
       "      <td>107.500000</td>\n",
       "      <td>6.808333</td>\n",
       "      <td>780.250000</td>\n",
       "      <td>12</td>\n",
       "    </tr>\n",
       "    <tr>\n",
       "      <th>2247</th>\n",
       "      <td>Fine Line Features</td>\n",
       "      <td>7.664727e+06</td>\n",
       "      <td>8.606609</td>\n",
       "      <td>5.735827e+06</td>\n",
       "      <td>113.636364</td>\n",
       "      <td>6.781818</td>\n",
       "      <td>128.636364</td>\n",
       "      <td>11</td>\n",
       "    </tr>\n",
       "    <tr>\n",
       "      <th>360</th>\n",
       "      <td>Film4</td>\n",
       "      <td>1.073481e+07</td>\n",
       "      <td>23.619318</td>\n",
       "      <td>3.305238e+07</td>\n",
       "      <td>107.457143</td>\n",
       "      <td>6.734286</td>\n",
       "      <td>781.714286</td>\n",
       "      <td>35</td>\n",
       "    </tr>\n",
       "  </tbody>\n",
       "</table>\n",
       "</div>"
      ],
      "text/plain": [
       "                       id        budget  popularity       revenue     runtime  \\\n",
       "1917   Channel Four Films  5.851195e+06   13.749363  5.282634e+07  106.692308   \n",
       "757   Malpaso Productions  3.575000e+07   24.577265  1.037537e+08  129.833333   \n",
       "1169                Pathé  1.609167e+07   26.344712  5.199480e+07  107.500000   \n",
       "2247   Fine Line Features  7.664727e+06    8.606609  5.735827e+06  113.636364   \n",
       "360                 Film4  1.073481e+07   23.619318  3.305238e+07  107.457143   \n",
       "\n",
       "      vote_average  vote_count  appearances  \n",
       "1917      6.907692  369.076923           13  \n",
       "757       6.811111  816.500000           18  \n",
       "1169      6.808333  780.250000           12  \n",
       "2247      6.781818  128.636364           11  \n",
       "360       6.734286  781.714286           35  "
      ]
     },
     "execution_count": 19,
     "metadata": {},
     "output_type": "execute_result"
    }
   ],
   "source": [
    "prod_companies_pop.nlargest(5,['vote_average'])"
   ]
  },
  {
   "cell_type": "markdown",
   "metadata": {},
   "source": [
    "Highest vote count"
   ]
  },
  {
   "cell_type": "code",
   "execution_count": 20,
   "metadata": {},
   "outputs": [
    {
     "data": {
      "text/html": [
       "<div>\n",
       "<style scoped>\n",
       "    .dataframe tbody tr th:only-of-type {\n",
       "        vertical-align: middle;\n",
       "    }\n",
       "\n",
       "    .dataframe tbody tr th {\n",
       "        vertical-align: top;\n",
       "    }\n",
       "\n",
       "    .dataframe thead th {\n",
       "        text-align: right;\n",
       "    }\n",
       "</style>\n",
       "<table border=\"1\" class=\"dataframe\">\n",
       "  <thead>\n",
       "    <tr style=\"text-align: right;\">\n",
       "      <th></th>\n",
       "      <th>id</th>\n",
       "      <th>budget</th>\n",
       "      <th>popularity</th>\n",
       "      <th>revenue</th>\n",
       "      <th>runtime</th>\n",
       "      <th>vote_average</th>\n",
       "      <th>vote_count</th>\n",
       "      <th>appearances</th>\n",
       "    </tr>\n",
       "  </thead>\n",
       "  <tbody>\n",
       "    <tr>\n",
       "      <th>46</th>\n",
       "      <td>Marvel Enterprises</td>\n",
       "      <td>8.654545e+07</td>\n",
       "      <td>34.589159</td>\n",
       "      <td>2.151583e+08</td>\n",
       "      <td>115.363636</td>\n",
       "      <td>5.909091</td>\n",
       "      <td>2134.909091</td>\n",
       "      <td>11</td>\n",
       "    </tr>\n",
       "    <tr>\n",
       "      <th>158</th>\n",
       "      <td>TSG Entertainment</td>\n",
       "      <td>6.076471e+07</td>\n",
       "      <td>47.943306</td>\n",
       "      <td>1.993598e+08</td>\n",
       "      <td>112.647059</td>\n",
       "      <td>6.000000</td>\n",
       "      <td>2053.176471</td>\n",
       "      <td>17</td>\n",
       "    </tr>\n",
       "    <tr>\n",
       "      <th>188</th>\n",
       "      <td>Media Rights Capital</td>\n",
       "      <td>3.570000e+07</td>\n",
       "      <td>47.252162</td>\n",
       "      <td>1.064246e+08</td>\n",
       "      <td>107.909091</td>\n",
       "      <td>6.054545</td>\n",
       "      <td>1691.272727</td>\n",
       "      <td>11</td>\n",
       "    </tr>\n",
       "    <tr>\n",
       "      <th>27</th>\n",
       "      <td>Kennedy/Marshall Company, The</td>\n",
       "      <td>9.233333e+07</td>\n",
       "      <td>45.064942</td>\n",
       "      <td>2.326829e+08</td>\n",
       "      <td>125.750000</td>\n",
       "      <td>6.316667</td>\n",
       "      <td>1524.166667</td>\n",
       "      <td>12</td>\n",
       "    </tr>\n",
       "    <tr>\n",
       "      <th>454</th>\n",
       "      <td>Marc Platt Productions</td>\n",
       "      <td>4.072727e+07</td>\n",
       "      <td>35.969424</td>\n",
       "      <td>1.156216e+08</td>\n",
       "      <td>107.181818</td>\n",
       "      <td>6.336364</td>\n",
       "      <td>1491.181818</td>\n",
       "      <td>11</td>\n",
       "    </tr>\n",
       "  </tbody>\n",
       "</table>\n",
       "</div>"
      ],
      "text/plain": [
       "                                id        budget  popularity       revenue  \\\n",
       "46              Marvel Enterprises  8.654545e+07   34.589159  2.151583e+08   \n",
       "158              TSG Entertainment  6.076471e+07   47.943306  1.993598e+08   \n",
       "188           Media Rights Capital  3.570000e+07   47.252162  1.064246e+08   \n",
       "27   Kennedy/Marshall Company, The  9.233333e+07   45.064942  2.326829e+08   \n",
       "454         Marc Platt Productions  4.072727e+07   35.969424  1.156216e+08   \n",
       "\n",
       "        runtime  vote_average   vote_count  appearances  \n",
       "46   115.363636      5.909091  2134.909091           11  \n",
       "158  112.647059      6.000000  2053.176471           17  \n",
       "188  107.909091      6.054545  1691.272727           11  \n",
       "27   125.750000      6.316667  1524.166667           12  \n",
       "454  107.181818      6.336364  1491.181818           11  "
      ]
     },
     "execution_count": 20,
     "metadata": {},
     "output_type": "execute_result"
    }
   ],
   "source": [
    "prod_companies_pop.nlargest(5,['vote_count'])"
   ]
  },
  {
   "cell_type": "markdown",
   "metadata": {},
   "source": [
    "Appeared most in data"
   ]
  },
  {
   "cell_type": "code",
   "execution_count": 21,
   "metadata": {},
   "outputs": [
    {
     "data": {
      "text/html": [
       "<div>\n",
       "<style scoped>\n",
       "    .dataframe tbody tr th:only-of-type {\n",
       "        vertical-align: middle;\n",
       "    }\n",
       "\n",
       "    .dataframe tbody tr th {\n",
       "        vertical-align: top;\n",
       "    }\n",
       "\n",
       "    .dataframe thead th {\n",
       "        text-align: right;\n",
       "    }\n",
       "</style>\n",
       "<table border=\"1\" class=\"dataframe\">\n",
       "  <thead>\n",
       "    <tr style=\"text-align: right;\">\n",
       "      <th></th>\n",
       "      <th>id</th>\n",
       "      <th>budget</th>\n",
       "      <th>popularity</th>\n",
       "      <th>revenue</th>\n",
       "      <th>runtime</th>\n",
       "      <th>vote_average</th>\n",
       "      <th>vote_count</th>\n",
       "      <th>appearances</th>\n",
       "    </tr>\n",
       "  </thead>\n",
       "  <tbody>\n",
       "    <tr>\n",
       "      <th>9</th>\n",
       "      <td>Universal Pictures</td>\n",
       "      <td>3.901198e+07</td>\n",
       "      <td>25.515336</td>\n",
       "      <td>1.034093e+08</td>\n",
       "      <td>111.256228</td>\n",
       "      <td>6.227758</td>\n",
       "      <td>792.967972</td>\n",
       "      <td>281</td>\n",
       "    </tr>\n",
       "    <tr>\n",
       "      <th>2</th>\n",
       "      <td>Warner Bros.</td>\n",
       "      <td>4.518166e+07</td>\n",
       "      <td>25.835690</td>\n",
       "      <td>1.030195e+08</td>\n",
       "      <td>113.666667</td>\n",
       "      <td>6.252381</td>\n",
       "      <td>819.864469</td>\n",
       "      <td>273</td>\n",
       "    </tr>\n",
       "    <tr>\n",
       "      <th>26</th>\n",
       "      <td>Paramount Pictures</td>\n",
       "      <td>3.763521e+07</td>\n",
       "      <td>22.140408</td>\n",
       "      <td>9.635208e+07</td>\n",
       "      <td>108.339844</td>\n",
       "      <td>6.161719</td>\n",
       "      <td>627.570312</td>\n",
       "      <td>256</td>\n",
       "    </tr>\n",
       "    <tr>\n",
       "      <th>35</th>\n",
       "      <td>Twentieth Century Fox Film Corporation</td>\n",
       "      <td>4.248594e+07</td>\n",
       "      <td>26.318939</td>\n",
       "      <td>1.252882e+08</td>\n",
       "      <td>106.939698</td>\n",
       "      <td>6.108040</td>\n",
       "      <td>887.356784</td>\n",
       "      <td>199</td>\n",
       "    </tr>\n",
       "    <tr>\n",
       "      <th>49</th>\n",
       "      <td>Columbia Pictures</td>\n",
       "      <td>4.559268e+07</td>\n",
       "      <td>26.943474</td>\n",
       "      <td>1.013324e+08</td>\n",
       "      <td>108.883978</td>\n",
       "      <td>6.146409</td>\n",
       "      <td>830.132597</td>\n",
       "      <td>181</td>\n",
       "    </tr>\n",
       "  </tbody>\n",
       "</table>\n",
       "</div>"
      ],
      "text/plain": [
       "                                        id        budget  popularity  \\\n",
       "9                       Universal Pictures  3.901198e+07   25.515336   \n",
       "2                             Warner Bros.  4.518166e+07   25.835690   \n",
       "26                      Paramount Pictures  3.763521e+07   22.140408   \n",
       "35  Twentieth Century Fox Film Corporation  4.248594e+07   26.318939   \n",
       "49                       Columbia Pictures  4.559268e+07   26.943474   \n",
       "\n",
       "         revenue     runtime  vote_average  vote_count  appearances  \n",
       "9   1.034093e+08  111.256228      6.227758  792.967972          281  \n",
       "2   1.030195e+08  113.666667      6.252381  819.864469          273  \n",
       "26  9.635208e+07  108.339844      6.161719  627.570312          256  \n",
       "35  1.252882e+08  106.939698      6.108040  887.356784          199  \n",
       "49  1.013324e+08  108.883978      6.146409  830.132597          181  "
      ]
     },
     "execution_count": 21,
     "metadata": {},
     "output_type": "execute_result"
    }
   ],
   "source": [
    "prod_companies_pop.nlargest(5,['appearances'])"
   ]
  },
  {
   "cell_type": "code",
   "execution_count": 22,
   "metadata": {},
   "outputs": [
    {
     "data": {
      "text/plain": [
       "<matplotlib.axes._subplots.AxesSubplot at 0x7fc1d7199c90>"
      ]
     },
     "execution_count": 22,
     "metadata": {},
     "output_type": "execute_result"
    },
    {
     "data": {
      "image/png": "[encoded data removed]",
      "text/plain": [
       "<Figure size 432x288 with 1 Axes>"
      ]
     },
     "metadata": {
      "needs_background": "light"
     },
     "output_type": "display_data"
    }
   ],
   "source": [
    "import seaborn as sns\n",
    "\n",
    "sns.distplot(prod_companies_pop['budget'], kde=False)"
   ]
  },
  {
   "cell_type": "code",
   "execution_count": 23,
   "metadata": {},
   "outputs": [
    {
     "data": {
      "text/plain": [
       "<matplotlib.axes._subplots.AxesSubplot at 0x7fc1d4fcdf50>"
      ]
     },
     "execution_count": 23,
     "metadata": {},
     "output_type": "execute_result"
    },
    {
     "data": {
      "image/png": "[encoded data removed]",
      "text/plain": [
       "<Figure size 432x288 with 1 Axes>"
      ]
     },
     "metadata": {
      "needs_background": "light"
     },
     "output_type": "display_data"
    }
   ],
   "source": [
    "sns.distplot(prod_companies_pop['runtime'], kde=False)"
   ]
  },
  {
   "cell_type": "markdown",
   "metadata": {},
   "source": [
    "TODO: Comparison of different genres for production houses"
   ]
  },
  {
   "cell_type": "code",
   "execution_count": null,
   "metadata": {},
   "outputs": [],
   "source": []
  },
  {
   "cell_type": "code",
   "execution_count": null,
   "metadata": {},
   "outputs": [],
   "source": []
  }
 ],
 "metadata": {
  "kernelspec": {
   "display_name": "Python 3",
   "language": "python",
   "name": "python3"
  },
  "language_info": {
   "codemirror_mode": {
    "name": "ipython",
    "version": 3
   },
   "file_extension": ".py",
   "mimetype": "text/x-python",
   "name": "python",
   "nbconvert_exporter": "python",
   "pygments_lexer": "ipython3",
   "version": "3.7.7"
  }
 },
 "nbformat": 4,
 "nbformat_minor": 4
}

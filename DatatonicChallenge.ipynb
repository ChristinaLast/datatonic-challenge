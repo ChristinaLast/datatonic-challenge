{
  "nbformat": 4,
  "nbformat_minor": 0,
  "metadata": {
    "colab": {
      "name": "DatatonicChallenge.ipynb",
      "provenance": [],
      "toc_visible": true,
      "authorship_tag": "ABX9TyMv5Oy88n9VyZaCnkYgITJy",
      "include_colab_link": true
    },
    "kernelspec": {
      "name": "python3",
      "display_name": "Python 3"
    }
  },
  "cells": [
    {
      "cell_type": "markdown",
      "metadata": {
        "id": "view-in-github",
        "colab_type": "text"
      },
      "source": [
        "<a href=\"https://colab.research.google.com/github/dluo96/datatonic-challenge/blob/master/DatatonicChallenge.ipynb\" target=\"_parent\"><img src=\"https://colab.research.google.com/assets/colab-badge.svg\" alt=\"Open In Colab\"/></a>"
      ]
    },
    {
      "cell_type": "markdown",
      "metadata": {
        "id": "r7FxZmbr_Lfl",
        "colab_type": "text"
      },
      "source": [
        "# Import Data (Movies)\n",
        "\n",
        "The dataset used is the [TMDB 5000 Movie Dataset](https://www.kaggle.com/tmdb/tmdb-movie-metadata/data). You need an api key named kaggle.json to download the dataset from kaggle ([Guide here](https://www.kaggle.com/docs/api)). After downloading the file, upload the API token when prompted below."
      ]
    },
    {
      "cell_type": "code",
      "metadata": {
        "id": "sIkCIZsV_A53",
        "colab_type": "code",
        "colab": {}
      },
      "source": [
        "from google.colab import files\n",
        "print('Please upload kaggle.json')\n",
        "files.upload()\n",
        "\n",
        "!pip install -q kaggle\n",
        "!mkdir -p ~/.kaggle\n",
        "!cp kaggle.json ~/.kaggle/\n",
        "!ls ~/.kaggle\n",
        "!chmod 600 /root/.kaggle/kaggle.json # set permission\n",
        "\n",
        "!kaggle datasets download -d tmdb/tmdb-movie-metadata -p data/\n",
        "!unzip data/tmdb-movie-metadata.zip -d data/\n",
        "\n",
        "data_dir = 'data/'"
      ],
      "execution_count": 0,
      "outputs": []
    },
    {
      "cell_type": "markdown",
      "metadata": {
        "id": "HlrbgfTDMOj7",
        "colab_type": "text"
      },
      "source": [
        "Loading the data"
      ]
    },
    {
      "cell_type": "code",
      "metadata": {
        "id": "f-3Pf4_kIvC5",
        "colab_type": "code",
        "colab": {}
      },
      "source": [
        "import pandas as pd\n",
        "\n",
        "movie_details_data = pd.read_csv(data_dir + 'tmdb_5000_movies.csv')\n",
        "movie_credits_data = pd.read_csv(data_dir + 'tmdb_5000_credits.csv')"
      ],
      "execution_count": 0,
      "outputs": []
    }
  ]
}